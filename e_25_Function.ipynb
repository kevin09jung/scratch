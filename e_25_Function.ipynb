{
  "cells": [
    {
      "cell_type": "markdown",
      "metadata": {
        "id": "-n5rZ1siWYYH"
      },
      "source": [
        "# 함수 사용\n",
        "\n",
        "- 데이터에 적용되는 다양한 함수 사용법을 다룬다\n",
        "- def, lambda, map, apply"
      ]
    },
    {
      "cell_type": "markdown",
      "metadata": {
        "id": "55gE4ifbWYYI"
      },
      "source": [
        "## import"
      ]
    },
    {
      "cell_type": "code",
      "execution_count": 1,
      "metadata": {
        "id": "fn0-UuCpWYYJ"
      },
      "outputs": [],
      "source": [
        "import pandas as pd\n",
        "import numpy as np"
      ]
    },
    {
      "cell_type": "markdown",
      "metadata": {
        "id": "oUMusoz8WYYK"
      },
      "source": [
        "# def \n",
        "- 반복 사용되는 작업은 함수로 만들어 두면 편리하게 다시 사용할 수 있다\n",
        "- 함수를 정의할 때 def를 사용한다\n",
        "- 함수를 호출할 때 인자를 넘겨줄 수 있다\n",
        "- 함수 실행 결과로 어떤 값을 받으려면 return 문을 사용한다"
      ]
    },
    {
      "cell_type": "markdown",
      "metadata": {
        "id": "Zf-SktfnWYYK"
      },
      "source": [
        "## 리턴 값 정의\n",
        "- return을 사용하며, 임의의 형태의 묶음 데이터도 리턴할 수 있다"
      ]
    },
    {
      "cell_type": "markdown",
      "metadata": {
        "id": "DFfl-PwZWYYL"
      },
      "source": [
        "## 인자"
      ]
    },
    {
      "cell_type": "code",
      "execution_count": 2,
      "metadata": {
        "colab": {
          "base_uri": "https://localhost:8080/"
        },
        "id": "syxyvp6pWYYL",
        "outputId": "b896f6e9-076a-4724-a7a8-ea197773f529"
      },
      "outputs": [
        {
          "output_type": "execute_result",
          "data": {
            "text/plain": [
              "10"
            ]
          },
          "metadata": {},
          "execution_count": 2
        }
      ],
      "source": [
        "## 인자로 받은 값의 두 배를 리턴하는 함수 정의\n",
        "\n",
        "def double(x):\n",
        "    return x*2\n",
        "\n",
        "double(5)"
      ]
    },
    {
      "cell_type": "code",
      "execution_count": 3,
      "metadata": {
        "colab": {
          "base_uri": "https://localhost:8080/"
        },
        "id": "omkNPBXJWYYL",
        "outputId": "5c70d648-0c4a-4c49-9baf-723a044a47a1"
      },
      "outputs": [
        {
          "output_type": "execute_result",
          "data": {
            "text/plain": [
              "(123, 6)"
            ]
          },
          "metadata": {},
          "execution_count": 3
        }
      ],
      "source": [
        "## 인자와 리턴값이 둘 이상인 함수 정의\n",
        "\n",
        "def f_1(a,b,c): \n",
        "    return (a*100 + b*10 + c, a+b+c)\n",
        "\n",
        "x, y = f_1(1, 2, 3)\n",
        "x, y"
      ]
    },
    {
      "cell_type": "markdown",
      "metadata": {
        "id": "Swn0ggUiWYYM"
      },
      "source": [
        "### 디폴트 값이 일부만 지정된 경우\n",
        "- 주의: 디폴트 값이 없는 인자는 앞에 배치해야 한다\n",
        "- 디폴트 값이 없는 인자는 필수 입력 인자임"
      ]
    },
    {
      "cell_type": "code",
      "execution_count": 4,
      "metadata": {
        "colab": {
          "base_uri": "https://localhost:8080/"
        },
        "id": "y-vjQL2vWYYM",
        "outputId": "e3b054d4-8f1a-41bd-e713-645af6a72df9"
      },
      "outputs": [
        {
          "output_type": "stream",
          "name": "stdout",
          "text": [
            "123\n",
            "583\n",
            "369\n",
            "924\n"
          ]
        }
      ],
      "source": [
        "## 일부 인자에 디폴트 값을 지정하는 함수 정의\n",
        "\n",
        "def f_2(a,b=2,c=3): \n",
        "    return a*100 + b*10 + c\n",
        "\n",
        "print(f_2(1))      # 123, 반드시 하나 이상의 인자가 필요하며 a로 사용된다\n",
        "print(f_2(5,8))    # 383, 앞에서부터 차례로 a,b로 사용된다\n",
        "print(f_2(3,6,9))  # 369, 앞에서부터 차례로 a,b,c로 사용된다\n",
        "print(f_2(c=4,a=9))# 924, 순서에 관계없이 인자를 지정할 수 있다\n",
        "                   # 인자 a는 필수로 지정해야 한다"
      ]
    },
    {
      "cell_type": "markdown",
      "metadata": {
        "id": "DUuko-nRWYYM"
      },
      "source": [
        "# 편리한 함수 사용법\n",
        "\n",
        "- lambda, map, apply"
      ]
    },
    {
      "cell_type": "markdown",
      "metadata": {
        "id": "p0DHzriFWYYM"
      },
      "source": [
        "## lambda, 익명 함수 정의\n",
        "- def, return을 사용하지 않고 간단히 함수를 정의할 수 있다"
      ]
    },
    {
      "cell_type": "code",
      "execution_count": 5,
      "metadata": {
        "colab": {
          "base_uri": "https://localhost:8080/"
        },
        "id": "tZodtWBPWYYM",
        "outputId": "4b196f4f-76af-4713-a7e9-399c959f305f"
      },
      "outputs": [
        {
          "output_type": "execute_result",
          "data": {
            "text/plain": [
              "400"
            ]
          },
          "metadata": {},
          "execution_count": 5
        }
      ],
      "source": [
        "## def, return을 사용하지 않는 간단한 함수 정의법\n",
        "\n",
        "my_f = lambda x: x*10\n",
        "\n",
        "my_f(40)"
      ]
    },
    {
      "cell_type": "markdown",
      "metadata": {
        "id": "6xh7ygWzWYYN"
      },
      "source": [
        "## map, 리스트에 함수 적용하기\n",
        "\n",
        "- map의 첫번째 인자에는 함수를, 두번째 인자에는 데이터를 넣는다\n",
        "- 리스트 외에도 튜플, 배열에 대해서도 사용할 수 있다\n",
        "- 별도로 함수를 정의하지 않고 lambda를 사용하여 함수 내용만 정의할 수 있다"
      ]
    },
    {
      "cell_type": "code",
      "execution_count": 6,
      "metadata": {
        "colab": {
          "base_uri": "https://localhost:8080/"
        },
        "id": "uBge6bEgWYYN",
        "outputId": "0e51c799-a98b-416c-b16f-2cd64c23f3cd"
      },
      "outputs": [
        {
          "output_type": "execute_result",
          "data": {
            "text/plain": [
              "[10, 20, 30, 40]"
            ]
          },
          "metadata": {},
          "execution_count": 6
        }
      ],
      "source": [
        "## 이미 정의된 함수명 my_f를 map()에 사용하는 예\n",
        "\n",
        "data = [1,2,3,4]\n",
        "y = list(map(my_f, data))\n",
        "y"
      ]
    },
    {
      "cell_type": "code",
      "execution_count": 7,
      "metadata": {
        "colab": {
          "base_uri": "https://localhost:8080/"
        },
        "id": "0z-1fDEnWYYN",
        "outputId": "1a183d83-5085-4d1e-bba4-755dafe4cb4f"
      },
      "outputs": [
        {
          "output_type": "execute_result",
          "data": {
            "text/plain": [
              "[10, 20, 30, 40]"
            ]
          },
          "metadata": {},
          "execution_count": 7
        }
      ],
      "source": [
        "# lambda를 사용하는 방법 (익명 함수)\n",
        "list(map(lambda i: i*10, data))"
      ]
    },
    {
      "cell_type": "markdown",
      "metadata": {
        "id": "Z4hXOwaYWYYN"
      },
      "source": [
        "## apply, 시리즈나 데이터프레임에 함수 적용\n",
        "\n",
        "- apply는 리스트, 튜플, 배열에는 사용할 수 없다"
      ]
    },
    {
      "cell_type": "code",
      "execution_count": 8,
      "metadata": {
        "scrolled": true,
        "colab": {
          "base_uri": "https://localhost:8080/",
          "height": 206
        },
        "id": "ImasDAmiWYYN",
        "outputId": "a3f85ee4-2381-4d4f-d9ae-3da3b9e44d97"
      },
      "outputs": [
        {
          "output_type": "execute_result",
          "data": {
            "text/plain": [
              "  city  population  temp  cars\n",
              "0   서울         990    13   300\n",
              "1   부산         350    16   120\n",
              "2   대구         250    14    80\n",
              "3   대전         154    13    90\n",
              "4   광주         150    15    70"
            ],
            "text/html": [
              "\n",
              "  <div id=\"df-9cddc90b-b621-4281-b475-88b6f57ca9d7\">\n",
              "    <div class=\"colab-df-container\">\n",
              "      <div>\n",
              "<style scoped>\n",
              "    .dataframe tbody tr th:only-of-type {\n",
              "        vertical-align: middle;\n",
              "    }\n",
              "\n",
              "    .dataframe tbody tr th {\n",
              "        vertical-align: top;\n",
              "    }\n",
              "\n",
              "    .dataframe thead th {\n",
              "        text-align: right;\n",
              "    }\n",
              "</style>\n",
              "<table border=\"1\" class=\"dataframe\">\n",
              "  <thead>\n",
              "    <tr style=\"text-align: right;\">\n",
              "      <th></th>\n",
              "      <th>city</th>\n",
              "      <th>population</th>\n",
              "      <th>temp</th>\n",
              "      <th>cars</th>\n",
              "    </tr>\n",
              "  </thead>\n",
              "  <tbody>\n",
              "    <tr>\n",
              "      <th>0</th>\n",
              "      <td>서울</td>\n",
              "      <td>990</td>\n",
              "      <td>13</td>\n",
              "      <td>300</td>\n",
              "    </tr>\n",
              "    <tr>\n",
              "      <th>1</th>\n",
              "      <td>부산</td>\n",
              "      <td>350</td>\n",
              "      <td>16</td>\n",
              "      <td>120</td>\n",
              "    </tr>\n",
              "    <tr>\n",
              "      <th>2</th>\n",
              "      <td>대구</td>\n",
              "      <td>250</td>\n",
              "      <td>14</td>\n",
              "      <td>80</td>\n",
              "    </tr>\n",
              "    <tr>\n",
              "      <th>3</th>\n",
              "      <td>대전</td>\n",
              "      <td>154</td>\n",
              "      <td>13</td>\n",
              "      <td>90</td>\n",
              "    </tr>\n",
              "    <tr>\n",
              "      <th>4</th>\n",
              "      <td>광주</td>\n",
              "      <td>150</td>\n",
              "      <td>15</td>\n",
              "      <td>70</td>\n",
              "    </tr>\n",
              "  </tbody>\n",
              "</table>\n",
              "</div>\n",
              "      <button class=\"colab-df-convert\" onclick=\"convertToInteractive('df-9cddc90b-b621-4281-b475-88b6f57ca9d7')\"\n",
              "              title=\"Convert this dataframe to an interactive table.\"\n",
              "              style=\"display:none;\">\n",
              "        \n",
              "  <svg xmlns=\"http://www.w3.org/2000/svg\" height=\"24px\"viewBox=\"0 0 24 24\"\n",
              "       width=\"24px\">\n",
              "    <path d=\"M0 0h24v24H0V0z\" fill=\"none\"/>\n",
              "    <path d=\"M18.56 5.44l.94 2.06.94-2.06 2.06-.94-2.06-.94-.94-2.06-.94 2.06-2.06.94zm-11 1L8.5 8.5l.94-2.06 2.06-.94-2.06-.94L8.5 2.5l-.94 2.06-2.06.94zm10 10l.94 2.06.94-2.06 2.06-.94-2.06-.94-.94-2.06-.94 2.06-2.06.94z\"/><path d=\"M17.41 7.96l-1.37-1.37c-.4-.4-.92-.59-1.43-.59-.52 0-1.04.2-1.43.59L10.3 9.45l-7.72 7.72c-.78.78-.78 2.05 0 2.83L4 21.41c.39.39.9.59 1.41.59.51 0 1.02-.2 1.41-.59l7.78-7.78 2.81-2.81c.8-.78.8-2.07 0-2.86zM5.41 20L4 18.59l7.72-7.72 1.47 1.35L5.41 20z\"/>\n",
              "  </svg>\n",
              "      </button>\n",
              "      \n",
              "  <style>\n",
              "    .colab-df-container {\n",
              "      display:flex;\n",
              "      flex-wrap:wrap;\n",
              "      gap: 12px;\n",
              "    }\n",
              "\n",
              "    .colab-df-convert {\n",
              "      background-color: #E8F0FE;\n",
              "      border: none;\n",
              "      border-radius: 50%;\n",
              "      cursor: pointer;\n",
              "      display: none;\n",
              "      fill: #1967D2;\n",
              "      height: 32px;\n",
              "      padding: 0 0 0 0;\n",
              "      width: 32px;\n",
              "    }\n",
              "\n",
              "    .colab-df-convert:hover {\n",
              "      background-color: #E2EBFA;\n",
              "      box-shadow: 0px 1px 2px rgba(60, 64, 67, 0.3), 0px 1px 3px 1px rgba(60, 64, 67, 0.15);\n",
              "      fill: #174EA6;\n",
              "    }\n",
              "\n",
              "    [theme=dark] .colab-df-convert {\n",
              "      background-color: #3B4455;\n",
              "      fill: #D2E3FC;\n",
              "    }\n",
              "\n",
              "    [theme=dark] .colab-df-convert:hover {\n",
              "      background-color: #434B5C;\n",
              "      box-shadow: 0px 1px 3px 1px rgba(0, 0, 0, 0.15);\n",
              "      filter: drop-shadow(0px 1px 2px rgba(0, 0, 0, 0.3));\n",
              "      fill: #FFFFFF;\n",
              "    }\n",
              "  </style>\n",
              "\n",
              "      <script>\n",
              "        const buttonEl =\n",
              "          document.querySelector('#df-9cddc90b-b621-4281-b475-88b6f57ca9d7 button.colab-df-convert');\n",
              "        buttonEl.style.display =\n",
              "          google.colab.kernel.accessAllowed ? 'block' : 'none';\n",
              "\n",
              "        async function convertToInteractive(key) {\n",
              "          const element = document.querySelector('#df-9cddc90b-b621-4281-b475-88b6f57ca9d7');\n",
              "          const dataTable =\n",
              "            await google.colab.kernel.invokeFunction('convertToInteractive',\n",
              "                                                     [key], {});\n",
              "          if (!dataTable) return;\n",
              "\n",
              "          const docLinkHtml = 'Like what you see? Visit the ' +\n",
              "            '<a target=\"_blank\" href=https://colab.research.google.com/notebooks/data_table.ipynb>data table notebook</a>'\n",
              "            + ' to learn more about interactive tables.';\n",
              "          element.innerHTML = '';\n",
              "          dataTable['output_type'] = 'display_data';\n",
              "          await google.colab.output.renderOutput(dataTable, element);\n",
              "          const docLink = document.createElement('div');\n",
              "          docLink.innerHTML = docLinkHtml;\n",
              "          element.appendChild(docLink);\n",
              "        }\n",
              "      </script>\n",
              "    </div>\n",
              "  </div>\n",
              "  "
            ]
          },
          "metadata": {},
          "execution_count": 8
        }
      ],
      "source": [
        "## 데이터프레임 생성\n",
        "\n",
        "x = {'city': ['서울', '부산', '대구', '대전', '광주'],\n",
        "     'population': [990, 350, 250, 154, 150],\n",
        "     'temp': [13, 16, 14, 13, 15],\n",
        "     'cars': [300, 120, 80, 90, 70]}\n",
        "\n",
        "df = pd.DataFrame(x)\n",
        "df"
      ]
    },
    {
      "cell_type": "code",
      "execution_count": 9,
      "metadata": {
        "colab": {
          "base_uri": "https://localhost:8080/"
        },
        "id": "4-t2f40UWYYN",
        "outputId": "8a4c25de-29b0-4b12-866b-bb684d91074b"
      },
      "outputs": [
        {
          "output_type": "execute_result",
          "data": {
            "text/plain": [
              "population    378.8\n",
              "temp           14.2\n",
              "dtype: float64"
            ]
          },
          "metadata": {},
          "execution_count": 9
        }
      ],
      "source": [
        "## 데이터프레임(시리즈)의 평균값 구하기\n",
        "\n",
        "df[[\"population\",\"temp\"]].apply(lambda x: np.mean(x.values))"
      ]
    },
    {
      "cell_type": "code",
      "execution_count": null,
      "metadata": {
        "id": "LRz90hH6WYYN"
      },
      "outputs": [],
      "source": []
    }
  ],
  "metadata": {
    "kernelspec": {
      "display_name": "Python 3",
      "language": "python",
      "name": "python3"
    },
    "language_info": {
      "codemirror_mode": {
        "name": "ipython",
        "version": 3
      },
      "file_extension": ".py",
      "mimetype": "text/x-python",
      "name": "python",
      "nbconvert_exporter": "python",
      "pygments_lexer": "ipython3",
      "version": "3.8.8"
    },
    "toc": {
      "base_numbering": 1,
      "nav_menu": {},
      "number_sections": false,
      "sideBar": true,
      "skip_h1_title": false,
      "title_cell": "Table of Contents",
      "title_sidebar": "Contents",
      "toc_cell": false,
      "toc_position": {
        "height": "calc(100% - 180px)",
        "left": "10px",
        "top": "150px",
        "width": "165px"
      },
      "toc_section_display": true,
      "toc_window_display": true
    },
    "colab": {
      "provenance": []
    }
  },
  "nbformat": 4,
  "nbformat_minor": 0
}