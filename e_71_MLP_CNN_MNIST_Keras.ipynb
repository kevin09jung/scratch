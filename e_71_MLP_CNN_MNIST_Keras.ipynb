{
  "cells": [
    {
      "cell_type": "markdown",
      "metadata": {
        "id": "JIe7bYJMtrfN"
      },
      "source": [
        "# MLP, CNN 이해\n",
        "\n",
        "- MNIST 이미지 인식\n",
        "- colab에서 실행"
      ]
    },
    {
      "cell_type": "markdown",
      "metadata": {
        "id": "KgdGePlzlWv0"
      },
      "source": [
        "# import"
      ]
    },
    {
      "cell_type": "code",
      "execution_count": 1,
      "metadata": {
        "id": "racEBTb_ZzV7"
      },
      "outputs": [],
      "source": [
        "import numpy as np\n",
        "import matplotlib.pyplot as plt\n",
        "import keras\n",
        "%matplotlib inline\n",
        "%config InlineBackend.figure_format = 'retina'"
      ]
    },
    {
      "cell_type": "code",
      "execution_count": 2,
      "metadata": {
        "id": "-AQRftuEqGqx"
      },
      "outputs": [],
      "source": [
        "from keras.datasets import mnist\n",
        "from keras.utils.np_utils import to_categorical\n",
        "from keras import layers\n",
        "from keras import models"
      ]
    },
    {
      "cell_type": "markdown",
      "metadata": {
        "id": "JUaSP2MbtRiS"
      },
      "source": [
        "# MNIST 데이터"
      ]
    },
    {
      "cell_type": "code",
      "execution_count": 3,
      "metadata": {
        "colab": {
          "base_uri": "https://localhost:8080/"
        },
        "id": "vRUwM8gvqToI",
        "outputId": "efa34a45-b2d6-4f9b-9bf4-4b8f863f7577"
      },
      "outputs": [
        {
          "output_type": "stream",
          "name": "stdout",
          "text": [
            "Downloading data from https://storage.googleapis.com/tensorflow/tf-keras-datasets/mnist.npz\n",
            "11490434/11490434 [==============================] - 0s 0us/step\n"
          ]
        }
      ],
      "source": [
        "(train_images, train_labels), (test_images, test_labels) = mnist.load_data()"
      ]
    },
    {
      "cell_type": "code",
      "execution_count": 4,
      "metadata": {
        "colab": {
          "base_uri": "https://localhost:8080/"
        },
        "id": "vTWfRgN5ZzV_",
        "outputId": "f504ac11-f452-47dc-872d-6d66fa27f81e"
      },
      "outputs": [
        {
          "output_type": "execute_result",
          "data": {
            "text/plain": [
              "(60000, 28, 28)"
            ]
          },
          "metadata": {},
          "execution_count": 4
        }
      ],
      "source": [
        "train_images.shape"
      ]
    },
    {
      "cell_type": "code",
      "source": [
        "fig, axes = plt.subplots(1, 5, figsize=(10, 3))\n",
        "for i in range(5):\n",
        "    axes[i].imshow(train_images[i], cmap=plt.cm.binary)\n",
        "plt.show()"
      ],
      "metadata": {
        "colab": {
          "base_uri": "https://localhost:8080/",
          "height": 197
        },
        "id": "Ni89MQNBlpC2",
        "outputId": "6a827fd8-5947-47a5-c459-6f8648ade401"
      },
      "execution_count": 5,
      "outputs": [
        {
          "output_type": "display_data",
          "data": {
            "text/plain": [
              "<Figure size 1000x300 with 5 Axes>"
            ],
            "image/png": "[encoded data removed]"
          },
          "metadata": {
            "image/png": {
              "width": 822,
              "height": 180
            }
          }
        }
      ]
    },
    {
      "cell_type": "code",
      "execution_count": 6,
      "metadata": {
        "colab": {
          "base_uri": "https://localhost:8080/"
        },
        "id": "C_a3kWryZzV_",
        "outputId": "41fbcd09-6bcd-4b88-bab8-cdabef3321e3"
      },
      "outputs": [
        {
          "output_type": "execute_result",
          "data": {
            "text/plain": [
              "array([5, 0, 4, 1, 9], dtype=uint8)"
            ]
          },
          "metadata": {},
          "execution_count": 6
        }
      ],
      "source": [
        "train_labels[:5]"
      ]
    },
    {
      "cell_type": "markdown",
      "metadata": {
        "id": "tB8wYyfEZzV_"
      },
      "source": [
        "## MLP 입력 전처리\n",
        "- MLP는 1차원 텐서 즉 벡터만 입력으로 받는다 (일렬 횡대 입력)\n",
        "- 목적 변수(여기서는 0~9 의 숫자)는 원 핫 인코딩을 해야 하며 케라스가 제공하는 to_categorical를 사용한다 (get_dummies와 같은 역할 수행)\n",
        "- 입력값은 0~1 사이로 min-max 스케일링은 한다"
      ]
    },
    {
      "cell_type": "code",
      "execution_count": 7,
      "metadata": {
        "id": "EafiutHbqni_"
      },
      "outputs": [],
      "source": [
        "X_train = train_images.reshape(60000, 28*28)\n",
        "X_train = X_train.astype('float32')/255\n",
        "\n",
        "X_test = test_images.reshape(10000, 28*28)\n",
        "X_test = X_test.astype('float32')/255\n",
        "\n",
        "y_train_cat = to_categorical(train_labels)\n",
        "y_test_cat = to_categorical(test_labels)"
      ]
    },
    {
      "cell_type": "code",
      "execution_count": 8,
      "metadata": {
        "colab": {
          "base_uri": "https://localhost:8080/"
        },
        "id": "LNqZlZxqZzWA",
        "outputId": "f99279cb-3689-4a36-cc3a-3a24e47c7850"
      },
      "outputs": [
        {
          "output_type": "stream",
          "name": "stdout",
          "text": [
            "(60000, 784)\n"
          ]
        },
        {
          "output_type": "execute_result",
          "data": {
            "text/plain": [
              "array([[0., 0., 0., 0., 0., 1., 0., 0., 0., 0.],\n",
              "       [1., 0., 0., 0., 0., 0., 0., 0., 0., 0.],\n",
              "       [0., 0., 0., 0., 1., 0., 0., 0., 0., 0.]], dtype=float32)"
            ]
          },
          "metadata": {},
          "execution_count": 8
        }
      ],
      "source": [
        "print(X_train.shape)\n",
        "y_train_cat[:3]"
      ]
    },
    {
      "cell_type": "markdown",
      "metadata": {
        "id": "Czew2EJub6Ja"
      },
      "source": [
        "# MLP 모델\n",
        "\n",
        "- [MLP 동작 이해(playground)](https://playground.tensorflow.org/#activation=tanh&batchSize=10&dataset=circle&regDataset=reg-plane&learningRate=0.03&regularizationRate=0&noise=0&networkShape=4,2&seed=0.30687&showTestData=false&discretize=false&percTrainData=50&x=true&y=true&xTimesY=false&xSquared=false&ySquared=false&cosX=false&sinX=false&cosY=false&sinY=false&collectStats=false&problem=classification&initZero=false&hideText=false)\n",
        "- [MLP로 구현한 MNIST 인식 모델](https://www.kaggle.com/code/heeraldedhia/mnist-classifier-first-deep-learning-project/notebook)\n",
        "- 출력단은 10개의 점수를 얻은 후에 소프트맥스를 수행하여 확률을 예측했다 - 10개의 클래스 확률을 얻었다"
      ]
    },
    {
      "cell_type": "code",
      "execution_count": null,
      "metadata": {
        "colab": {
          "base_uri": "https://localhost:8080/"
        },
        "id": "4tlDJdu8b5XD",
        "outputId": "9138817d-341a-4d4d-e6f5-ef688e0a1cd6"
      },
      "outputs": [
        {
          "output_type": "stream",
          "name": "stdout",
          "text": [
            "Model: \"sequential\"\n",
            "_________________________________________________________________\n",
            " Layer (type)                Output Shape              Param #   \n",
            "=================================================================\n",
            " dense (Dense)               (None, 100)               78500     \n",
            "                                                                 \n",
            " dense_1 (Dense)             (None, 100)               10100     \n",
            "                                                                 \n",
            " dense_2 (Dense)             (None, 10)                1010      \n",
            "                                                                 \n",
            "=================================================================\n",
            "Total params: 89,610\n",
            "Trainable params: 89,610\n",
            "Non-trainable params: 0\n",
            "_________________________________________________________________\n"
          ]
        }
      ],
      "source": [
        "model_m = models.Sequential()\n",
        "model_m.add(layers.Dense(100, activation='relu', input_shape = (28*28,)))\n",
        "model_m.add(layers.Dense(100, activation='relu'))\n",
        "model_m.add(layers.Dense(10, activation='softmax'))\n",
        "model_m.summary()"
      ]
    },
    {
      "cell_type": "markdown",
      "source": [
        "## 조기 종료 조건\n",
        "- 이포크 종료 조건을 keras.callbacks.EarlyStopping로 설정할 수 있다\n",
        "- 아래는 총 이포크를 30회 진행하되 이포크가 3회 진행하는 동안 검증 데이터에 대해 정확도가 개선되지 않으면 종료하라는 뜻이다\n",
        " - 이 때 검증 데이터는 훈련 데이터중에 20%를 자체적으로 사용한다"
      ],
      "metadata": {
        "id": "dT1vk3rLpAhn"
      }
    },
    {
      "cell_type": "code",
      "execution_count": null,
      "metadata": {
        "id": "A8NcYf3-GoF5",
        "colab": {
          "base_uri": "https://localhost:8080/"
        },
        "outputId": "f30e0f36-9fbd-4721-fb48-3c17feefc854"
      },
      "outputs": [
        {
          "output_type": "stream",
          "name": "stdout",
          "text": [
            "Epoch 1/30\n",
            "2400/2400 [==============================] - 15s 4ms/step - loss: 0.2540 - accuracy: 0.9236 - val_loss: 0.1266 - val_accuracy: 0.9634\n",
            "Epoch 2/30\n",
            "2400/2400 [==============================] - 9s 4ms/step - loss: 0.1089 - accuracy: 0.9669 - val_loss: 0.1035 - val_accuracy: 0.9695\n",
            "Epoch 3/30\n",
            "2400/2400 [==============================] - 12s 5ms/step - loss: 0.0760 - accuracy: 0.9768 - val_loss: 0.1096 - val_accuracy: 0.9669\n",
            "Epoch 4/30\n",
            "2400/2400 [==============================] - 11s 4ms/step - loss: 0.0586 - accuracy: 0.9810 - val_loss: 0.1020 - val_accuracy: 0.9704\n",
            "Epoch 5/30\n",
            "2400/2400 [==============================] - 8s 3ms/step - loss: 0.0458 - accuracy: 0.9852 - val_loss: 0.1090 - val_accuracy: 0.9722\n",
            "Epoch 6/30\n",
            "2400/2400 [==============================] - 13s 5ms/step - loss: 0.0389 - accuracy: 0.9870 - val_loss: 0.0978 - val_accuracy: 0.9733\n",
            "Epoch 7/30\n",
            "2400/2400 [==============================] - 10s 4ms/step - loss: 0.0312 - accuracy: 0.9896 - val_loss: 0.0967 - val_accuracy: 0.9753\n",
            "Epoch 8/30\n",
            "2400/2400 [==============================] - 9s 4ms/step - loss: 0.0276 - accuracy: 0.9905 - val_loss: 0.1084 - val_accuracy: 0.9731\n",
            "Epoch 9/30\n",
            "2400/2400 [==============================] - 9s 4ms/step - loss: 0.0253 - accuracy: 0.9914 - val_loss: 0.1130 - val_accuracy: 0.9754\n",
            "Epoch 10/30\n",
            "2400/2400 [==============================] - 9s 4ms/step - loss: 0.0216 - accuracy: 0.9930 - val_loss: 0.1137 - val_accuracy: 0.9736\n",
            "Epoch 11/30\n",
            "2400/2400 [==============================] - 11s 5ms/step - loss: 0.0205 - accuracy: 0.9932 - val_loss: 0.1263 - val_accuracy: 0.9742\n",
            "Epoch 12/30\n",
            "2400/2400 [==============================] - 10s 4ms/step - loss: 0.0166 - accuracy: 0.9946 - val_loss: 0.1191 - val_accuracy: 0.9739\n"
          ]
        }
      ],
      "source": [
        "callbacks_list = [keras.callbacks.EarlyStopping(monitor='val_accuracy', patience=3)]\n",
        "\n",
        "model_m.compile(loss='categorical_crossentropy',\n",
        "                optimizer='adam', metrics=['accuracy'])\n",
        "# adam외에 다른 최적화 알고리즘으로 'rmsprop'도 널리 사용된다\n",
        "# 레이블은 원 핫 인코딩을 사용해야 한다 (10개의 값을 각각 주어야 하므로)\n",
        "h = model_m.fit(X_train,\n",
        "                      y_train_cat,\n",
        "                      batch_size=20,\n",
        "                      epochs=30,\n",
        "                      callbacks=callbacks_list,\n",
        "                      validation_split=0.2,\n",
        "                      verbose=1)"
      ]
    },
    {
      "cell_type": "markdown",
      "source": [
        "## fit 함수\n",
        "- 매 이포크마다 실행 결과를 history 타입의 객체에 저장한다\n",
        "- 이 객체에 손실함수와 성능평가 기록이 남아 있다"
      ],
      "metadata": {
        "id": "DrkAKwojpYOv"
      }
    },
    {
      "cell_type": "code",
      "execution_count": 9,
      "metadata": {
        "id": "RMXrAboxVHyh"
      },
      "outputs": [],
      "source": [
        "def show_4_graphs(history):\n",
        "    plt.figure(figsize=(6, 4))\n",
        "    plt.plot(history.history['accuracy'], 'r', label='Accuracy of training data')\n",
        "    plt.plot(history.history['val_accuracy'], 'b', label='Accuracy of validation data')\n",
        "    plt.plot(history.history['loss'], 'r--', label='Loss of training data')\n",
        "    plt.plot(history.history['val_loss'], 'b--', label='Loss of validation data')\n",
        "    plt.title('Model Accuracy and Loss')\n",
        "    plt.ylabel('Accuracy and Loss')\n",
        "    plt.xlabel('Training Epoch')\n",
        "    plt.ylim(0)\n",
        "    plt.legend()\n",
        "    plt.show()"
      ]
    },
    {
      "cell_type": "code",
      "execution_count": 10,
      "metadata": {
        "colab": {
          "base_uri": "https://localhost:8080/",
          "height": 174
        },
        "id": "vpdtTWdlVNY2",
        "outputId": "0cdffcc1-227a-4d87-fa3b-6174989ae2d8"
      },
      "outputs": [
        {
          "output_type": "error",
          "ename": "NameError",
          "evalue": "ignored",
          "traceback": [
            "\u001b[0;31m---------------------------------------------------------------------------\u001b[0m",
            "\u001b[0;31mNameError\u001b[0m                                 Traceback (most recent call last)",
            "\u001b[0;32m<ipython-input-10-e3e1fd23c291>\u001b[0m in \u001b[0;36m<cell line: 1>\u001b[0;34m()\u001b[0m\n\u001b[0;32m----> 1\u001b[0;31m \u001b[0mshow_4_graphs\u001b[0m\u001b[0;34m(\u001b[0m\u001b[0mh\u001b[0m\u001b[0;34m)\u001b[0m\u001b[0;34m\u001b[0m\u001b[0;34m\u001b[0m\u001b[0m\n\u001b[0m",
            "\u001b[0;31mNameError\u001b[0m: name 'h' is not defined"
          ]
        }
      ],
      "source": [
        "show_4_graphs(h)"
      ]
    },
    {
      "cell_type": "markdown",
      "source": [
        "- 검증데이터에 대한 평가는 evaluate()로 수행한다"
      ],
      "metadata": {
        "id": "Okiuu_wBpxnm"
      }
    },
    {
      "cell_type": "code",
      "execution_count": null,
      "metadata": {
        "colab": {
          "base_uri": "https://localhost:8080/"
        },
        "id": "JWGwyDRBdNqL",
        "outputId": "44131ccd-c46e-4104-c510-61f8bd759ca5"
      },
      "outputs": [
        {
          "output_type": "stream",
          "name": "stdout",
          "text": [
            "313/313 [==============================] - 1s 2ms/step - loss: 0.1172 - accuracy: 0.9752\n",
            "loss, acc =  0.11722329258918762 0.9751999974250793\n"
          ]
        }
      ],
      "source": [
        "test_loss, test_acc = model_m.evaluate(X_test, y_test_cat)\n",
        "print('loss, acc = ',test_loss, test_acc)"
      ]
    },
    {
      "cell_type": "markdown",
      "metadata": {
        "id": "H6bgW5hsidhB"
      },
      "source": [
        "###  예측에 사용하기\n",
        "- predict()함수를 호출하면 클래스 확률을 보여준다\n",
        "- 10개의 클래스 확률중에 어떤 클래스의 확률이 가장 큰지는 agrmax()로 찾는다"
      ]
    },
    {
      "cell_type": "code",
      "execution_count": null,
      "metadata": {
        "colab": {
          "base_uri": "https://localhost:8080/"
        },
        "id": "aC65kd69hms8",
        "outputId": "b8eaa835-768f-4da3-c5bc-93068afc84c0"
      },
      "outputs": [
        {
          "output_type": "stream",
          "name": "stdout",
          "text": [
            "1/1 [==============================] - 0s 73ms/step\n"
          ]
        },
        {
          "output_type": "execute_result",
          "data": {
            "text/plain": [
              "array([[9.3840004e-27, 4.7926670e-16, 1.6071808e-16, 1.3520035e-02,\n",
              "        2.6808958e-23, 9.8647994e-01, 1.7811349e-21, 1.0856137e-20,\n",
              "        2.5430653e-13, 2.6275809e-10],\n",
              "       [1.0000000e+00, 4.4427419e-23, 3.5071335e-11, 1.7412460e-20,\n",
              "        1.7186900e-20, 4.2378797e-19, 1.7449429e-13, 5.3873305e-18,\n",
              "        4.4271626e-22, 2.3875767e-12],\n",
              "       [3.1291595e-12, 1.0164287e-11, 3.1484267e-11, 1.3162475e-11,\n",
              "        9.9999678e-01, 6.5109870e-13, 1.2172916e-09, 7.3693395e-12,\n",
              "        2.9632097e-09, 3.2413027e-06]], dtype=float32)"
            ]
          },
          "metadata": {},
          "execution_count": 14
        }
      ],
      "source": [
        "model_m.predict(X_train[0:3])"
      ]
    },
    {
      "cell_type": "code",
      "execution_count": null,
      "metadata": {
        "colab": {
          "base_uri": "https://localhost:8080/"
        },
        "id": "58bzUyEUiBqU",
        "outputId": "c2fbd6ae-46d5-41ef-a811-e668ab007de1"
      },
      "outputs": [
        {
          "output_type": "stream",
          "name": "stdout",
          "text": [
            "1/1 [==============================] - 0s 19ms/step\n"
          ]
        },
        {
          "output_type": "execute_result",
          "data": {
            "text/plain": [
              "array([5, 0, 4, 1, 9])"
            ]
          },
          "metadata": {},
          "execution_count": 15
        }
      ],
      "source": [
        "np.argmax(model_m.predict(X_train[0:5]), axis=1)"
      ]
    },
    {
      "cell_type": "markdown",
      "metadata": {
        "id": "44tLYKCwtYc-"
      },
      "source": [
        "# CNN 모델\n",
        "- CNN은 입력으로 4차원 구조를 필요로 한다\n",
        " - (샘플수, 가로, 세로, 특성수)\n",
        "- 구조를 맞추기 위해서 reshape를 사용한다\n",
        "- [CNN 모델을 사용한 MNIST 인식](https://towardsdatascience.com/mnist-handwritten-digits-classification-using-a-convolutional-neural-network-cnn-af5fafbc35e9)"
      ]
    },
    {
      "cell_type": "code",
      "execution_count": 11,
      "metadata": {
        "id": "-uSV7hakZzWC"
      },
      "outputs": [],
      "source": [
        "X_train_cnn = train_images.reshape(-1,28,28,1)\n",
        "X_test_cnn = test_images.reshape(-1,28,28,1)"
      ]
    },
    {
      "cell_type": "code",
      "execution_count": 14,
      "metadata": {
        "colab": {
          "base_uri": "https://localhost:8080/"
        },
        "id": "ZF7JkSQvrYAj",
        "outputId": "1414dbcd-6cfa-4c2b-dbbb-fa84d6c51722"
      },
      "outputs": [
        {
          "output_type": "stream",
          "name": "stdout",
          "text": [
            "Model: \"sequential_2\"\n",
            "_________________________________________________________________\n",
            " Layer (type)                Output Shape              Param #   \n",
            "=================================================================\n",
            " conv2d_4 (Conv2D)           (None, 26, 26, 32)        320       \n",
            "                                                                 \n",
            " max_pooling2d_4 (MaxPooling  (None, 13, 13, 32)       0         \n",
            " 2D)                                                             \n",
            "                                                                 \n",
            " conv2d_5 (Conv2D)           (None, 11, 11, 64)        18496     \n",
            "                                                                 \n",
            " conv2d_6 (Conv2D)           (None, 9, 9, 64)          36928     \n",
            "                                                                 \n",
            " max_pooling2d_5 (MaxPooling  (None, 4, 4, 64)         0         \n",
            " 2D)                                                             \n",
            "                                                                 \n",
            " flatten_2 (Flatten)         (None, 1024)              0         \n",
            "                                                                 \n",
            " dense_4 (Dense)             (None, 10)                10250     \n",
            "                                                                 \n",
            "=================================================================\n",
            "Total params: 65,994\n",
            "Trainable params: 65,994\n",
            "Non-trainable params: 0\n",
            "_________________________________________________________________\n"
          ]
        }
      ],
      "source": [
        "from keras import layers\n",
        "from keras import models\n",
        "\n",
        "model_cnn = models.Sequential()\n",
        "model_cnn.add(layers.Conv2D(32, (3,3), activation='relu', input_shape = (28, 28,1)))\n",
        "model_cnn.add(layers.MaxPooling2D((2,2)))\n",
        "\n",
        "model_cnn.add(layers.Conv2D(64, (3,3), activation='relu'))\n",
        "model_cnn.add(layers.Conv2D(64, (3,3), activation='relu'))\n",
        "model_cnn.add(layers.MaxPooling2D((2,2)))\n",
        "\n",
        "model_cnn.add(layers.Flatten())\n",
        "#model_cnn.add(layers.Dense(128, activation='relu'))\n",
        "model_cnn.add(layers.Dense(10, activation='softmax'))\n",
        "\n",
        "model_cnn.summary()"
      ]
    },
    {
      "cell_type": "code",
      "execution_count": 15,
      "metadata": {
        "colab": {
          "base_uri": "https://localhost:8080/"
        },
        "id": "_ikkdb8qsx6d",
        "outputId": "f7a6d6ce-4a20-48fa-db08-f936e488b3ac"
      },
      "outputs": [
        {
          "output_type": "stream",
          "name": "stdout",
          "text": [
            "Epoch 1/30\n",
            "2400/2400 [==============================] - 21s 4ms/step - loss: 0.2316 - accuracy: 0.9473 - val_loss: 0.0821 - val_accuracy: 0.9765\n",
            "Epoch 2/30\n",
            "2400/2400 [==============================] - 11s 4ms/step - loss: 0.0694 - accuracy: 0.9792 - val_loss: 0.0565 - val_accuracy: 0.9833\n",
            "Epoch 3/30\n",
            "2400/2400 [==============================] - 10s 4ms/step - loss: 0.0560 - accuracy: 0.9828 - val_loss: 0.0459 - val_accuracy: 0.9854\n",
            "Epoch 4/30\n",
            "2400/2400 [==============================] - 12s 5ms/step - loss: 0.0474 - accuracy: 0.9856 - val_loss: 0.0522 - val_accuracy: 0.9874\n",
            "Epoch 5/30\n",
            "2400/2400 [==============================] - 11s 5ms/step - loss: 0.0393 - accuracy: 0.9883 - val_loss: 0.0535 - val_accuracy: 0.9844\n",
            "Epoch 6/30\n",
            "2400/2400 [==============================] - 10s 4ms/step - loss: 0.0364 - accuracy: 0.9890 - val_loss: 0.0653 - val_accuracy: 0.9844\n",
            "Epoch 7/30\n",
            "2400/2400 [==============================] - 11s 4ms/step - loss: 0.0328 - accuracy: 0.9901 - val_loss: 0.0677 - val_accuracy: 0.9837\n"
          ]
        }
      ],
      "source": [
        "callbacks_list = [keras.callbacks.EarlyStopping(monitor='val_accuracy', patience=3)]\n",
        "\n",
        "model_cnn.compile(loss='categorical_crossentropy',\n",
        "                optimizer='adam', metrics=['accuracy'])\n",
        "# 다른 최적화 알고리즘 'rmsprop'\n",
        "# 레이블로 원 핫 인코딩을 사용해야 한다\n",
        "h = model_cnn.fit(X_train_cnn,\n",
        "                      y_train_cat,\n",
        "                      batch_size=20,\n",
        "                      epochs=30,\n",
        "                      callbacks=callbacks_list,\n",
        "                      validation_split=0.2,\n",
        "                      verbose=1)"
      ]
    },
    {
      "cell_type": "code",
      "execution_count": 16,
      "metadata": {
        "colab": {
          "base_uri": "https://localhost:8080/"
        },
        "id": "H4MhJEoUvCm0",
        "outputId": "7b4d304e-31c1-49c8-8933-3a90a84aa57d"
      },
      "outputs": [
        {
          "output_type": "stream",
          "name": "stdout",
          "text": [
            "313/313 [==============================] - 1s 3ms/step - loss: 0.0576 - accuracy: 0.9859\n",
            "test_acc =  0.9858999848365784\n"
          ]
        }
      ],
      "source": [
        "test_loss, test_acc = model_cnn.evaluate(X_test_cnn, y_test_cat)\n",
        "print('test_acc = ',test_acc)"
      ]
    },
    {
      "cell_type": "code",
      "execution_count": 17,
      "metadata": {
        "colab": {
          "base_uri": "https://localhost:8080/",
          "height": 409
        },
        "id": "WQutnaIBjT68",
        "outputId": "57b085a1-6c62-413f-f332-85f7fca6f7a2"
      },
      "outputs": [
        {
          "output_type": "display_data",
          "data": {
            "text/plain": [
              "<Figure size 600x400 with 1 Axes>"
            ],
            "image/png": "[encoded data removed]"
          },
          "metadata": {
            "image/png": {
              "width": 536,
              "height": 392
            }
          }
        }
      ],
      "source": [
        "show_4_graphs(h)"
      ]
    },
    {
      "cell_type": "markdown",
      "metadata": {
        "id": "snRNbW4dv7cF"
      },
      "source": [
        "# MLP를 이용한  회귀 예측\n",
        "- 출력단을 다음과 같이 작성하면 회귀예측을 수행하는 모델을 학습한다 (softmax를 호출하면 분류 모델이다)\n",
        " - model.add(layers.Dense(1))\n",
        "- 목적 변수 3개를 예측하는 경우\n",
        " - model.add(layers.Dense(3))"
      ]
    },
    {
      "cell_type": "markdown",
      "source": [
        "# (실습) 성능이 최대한 높게 나오도록 CNN 모델을 개선하시오\n"
      ],
      "metadata": {
        "id": "cW5YXtpDuQTd"
      }
    },
    {
      "cell_type": "markdown",
      "source": [
        "# (실습) 위에서 얻은 최고 성능의 95%를 달성하는 모델을 만들되 가능하면 간단한 모델, 즉, 파라미터수가 적을 모델을 만드시오"
      ],
      "metadata": {
        "id": "vNuQ10vEuJAT"
      }
    },
    {
      "cell_type": "code",
      "source": [
        "model_cnn = models.Sequential()\n",
        "model_cnn.add(layers.Conv2D(4, (3,3), activation='relu', input_shape = (28, 28,1)))\n",
        "model_cnn.add(layers.MaxPooling2D((2,2)))\n",
        "\n",
        "model_cnn.add(layers.Conv2D(6, (3,3), activation='relu'))\n",
        "model_cnn.add(layers.MaxPooling2D((2,2)))\n",
        "\n",
        "model_cnn.add(layers.Flatten())\n",
        "model_cnn.add(layers.Dense(10, activation='softmax'))\n",
        "\n",
        "model_cnn.summary()"
      ],
      "metadata": {
        "id": "5ln4IMhV0_Ad",
        "outputId": "26cfb1b3-708b-42b0-a634-3f4ae995a78b",
        "colab": {
          "base_uri": "https://localhost:8080/"
        }
      },
      "execution_count": 35,
      "outputs": [
        {
          "output_type": "stream",
          "name": "stdout",
          "text": [
            "Model: \"sequential_10\"\n",
            "_________________________________________________________________\n",
            " Layer (type)                Output Shape              Param #   \n",
            "=================================================================\n",
            " conv2d_24 (Conv2D)          (None, 26, 26, 4)         40        \n",
            "                                                                 \n",
            " max_pooling2d_20 (MaxPoolin  (None, 13, 13, 4)        0         \n",
            " g2D)                                                            \n",
            "                                                                 \n",
            " conv2d_25 (Conv2D)          (None, 11, 11, 6)         222       \n",
            "                                                                 \n",
            " max_pooling2d_21 (MaxPoolin  (None, 5, 5, 6)          0         \n",
            " g2D)                                                            \n",
            "                                                                 \n",
            " flatten_10 (Flatten)        (None, 150)               0         \n",
            "                                                                 \n",
            " dense_12 (Dense)            (None, 10)                1510      \n",
            "                                                                 \n",
            "=================================================================\n",
            "Total params: 1,772\n",
            "Trainable params: 1,772\n",
            "Non-trainable params: 0\n",
            "_________________________________________________________________\n"
          ]
        }
      ]
    },
    {
      "cell_type": "code",
      "source": [
        "callbacks_list = [keras.callbacks.EarlyStopping(monitor='val_accuracy', patience=3)]\n",
        "\n",
        "model_cnn.compile(loss='categorical_crossentropy',\n",
        "                optimizer='adam', metrics=['accuracy'])\n",
        "# 다른 최적화 알고리즘 'rmsprop'\n",
        "# 레이블로 원 핫 인코딩을 사용해야 한다\n",
        "h = model_cnn.fit(X_train_cnn,\n",
        "                      y_train_cat,\n",
        "                      batch_size=20,\n",
        "                      epochs=30,\n",
        "                      callbacks=callbacks_list,\n",
        "                      validation_split=0.2,\n",
        "                      verbose=1)"
      ],
      "metadata": {
        "id": "qcBN2PQEBr_t",
        "outputId": "1f9e4511-2da9-4735-8d74-7d6f2e22adef",
        "colab": {
          "base_uri": "https://localhost:8080/"
        }
      },
      "execution_count": 36,
      "outputs": [
        {
          "output_type": "stream",
          "name": "stdout",
          "text": [
            "Epoch 1/30\n",
            "2400/2400 [==============================] - 11s 4ms/step - loss: 0.9744 - accuracy: 0.7631 - val_loss: 0.2538 - val_accuracy: 0.9233\n",
            "Epoch 2/30\n",
            "2400/2400 [==============================] - 10s 4ms/step - loss: 0.2117 - accuracy: 0.9349 - val_loss: 0.1639 - val_accuracy: 0.9488\n",
            "Epoch 3/30\n",
            "2400/2400 [==============================] - 11s 4ms/step - loss: 0.1577 - accuracy: 0.9508 - val_loss: 0.1333 - val_accuracy: 0.9607\n",
            "Epoch 4/30\n",
            "2400/2400 [==============================] - 9s 4ms/step - loss: 0.1276 - accuracy: 0.9597 - val_loss: 0.1207 - val_accuracy: 0.9639\n",
            "Epoch 5/30\n",
            "2400/2400 [==============================] - 10s 4ms/step - loss: 0.1140 - accuracy: 0.9645 - val_loss: 0.1244 - val_accuracy: 0.9618\n",
            "Epoch 6/30\n",
            "2400/2400 [==============================] - 9s 4ms/step - loss: 0.1044 - accuracy: 0.9665 - val_loss: 0.1301 - val_accuracy: 0.9609\n",
            "Epoch 7/30\n",
            "2400/2400 [==============================] - 9s 4ms/step - loss: 0.0973 - accuracy: 0.9691 - val_loss: 0.1051 - val_accuracy: 0.9663\n",
            "Epoch 8/30\n",
            "2400/2400 [==============================] - 10s 4ms/step - loss: 0.0926 - accuracy: 0.9706 - val_loss: 0.1039 - val_accuracy: 0.9692\n",
            "Epoch 9/30\n",
            "2400/2400 [==============================] - 9s 4ms/step - loss: 0.0870 - accuracy: 0.9726 - val_loss: 0.0995 - val_accuracy: 0.9708\n",
            "Epoch 10/30\n",
            "2400/2400 [==============================] - 9s 4ms/step - loss: 0.0859 - accuracy: 0.9729 - val_loss: 0.1008 - val_accuracy: 0.9696\n",
            "Epoch 11/30\n",
            "2400/2400 [==============================] - 9s 4ms/step - loss: 0.0825 - accuracy: 0.9732 - val_loss: 0.0974 - val_accuracy: 0.9719\n",
            "Epoch 12/30\n",
            "2400/2400 [==============================] - 9s 4ms/step - loss: 0.0814 - accuracy: 0.9734 - val_loss: 0.1100 - val_accuracy: 0.9672\n",
            "Epoch 13/30\n",
            "2400/2400 [==============================] - 9s 4ms/step - loss: 0.0797 - accuracy: 0.9742 - val_loss: 0.1033 - val_accuracy: 0.9682\n",
            "Epoch 14/30\n",
            "2400/2400 [==============================] - 10s 4ms/step - loss: 0.0802 - accuracy: 0.9743 - val_loss: 0.0905 - val_accuracy: 0.9729\n",
            "Epoch 15/30\n",
            "2400/2400 [==============================] - 9s 4ms/step - loss: 0.0792 - accuracy: 0.9745 - val_loss: 0.1083 - val_accuracy: 0.9682\n",
            "Epoch 16/30\n",
            "2400/2400 [==============================] - 10s 4ms/step - loss: 0.0774 - accuracy: 0.9758 - val_loss: 0.0999 - val_accuracy: 0.9713\n",
            "Epoch 17/30\n",
            "2400/2400 [==============================] - 10s 4ms/step - loss: 0.0759 - accuracy: 0.9755 - val_loss: 0.0993 - val_accuracy: 0.9701\n"
          ]
        }
      ]
    },
    {
      "cell_type": "code",
      "source": [
        "test_loss, test_acc = model_cnn.evaluate(X_test_cnn, y_test_cat)\n",
        "print('test_acc = ',test_acc)"
      ],
      "metadata": {
        "id": "f9-JppysB3iK",
        "outputId": "cc6a088e-436c-446c-c306-850380d1e0d2",
        "colab": {
          "base_uri": "https://localhost:8080/"
        }
      },
      "execution_count": 37,
      "outputs": [
        {
          "output_type": "stream",
          "name": "stdout",
          "text": [
            "313/313 [==============================] - 1s 3ms/step - loss: 0.0862 - accuracy: 0.9736\n",
            "test_acc =  0.9735999703407288\n"
          ]
        }
      ]
    },
    {
      "cell_type": "code",
      "source": [],
      "metadata": {
        "id": "qDK3iaUdDSVc"
      },
      "execution_count": null,
      "outputs": []
    },
    {
      "cell_type": "code",
      "source": [
        "model_cnn = models.Sequential()\n",
        "model_cnn.add(layers.Conv2D(4, (3,3), activation='relu', input_shape = (28, 28,1)))\n",
        "model_cnn.add(layers.MaxPooling2D((2,2)))\n",
        "\n",
        "model_cnn.add(layers.Conv2D(8, (3,3), activation='relu'))\n",
        "model_cnn.add(layers.MaxPooling2D((2,2)))\n",
        "\n",
        "model_cnn.add(layers.Flatten())\n",
        "#model_cnn.add(layers.Dense(128, activation='relu'))\n",
        "model_cnn.add(layers.Dense(10, activation='softmax'))\n",
        "\n",
        "model_cnn.summary()"
      ],
      "metadata": {
        "id": "n6H0R-WDDTKE",
        "outputId": "50c0940b-00b6-4ba8-c591-ff59b5acbd14",
        "colab": {
          "base_uri": "https://localhost:8080/"
        }
      },
      "execution_count": 29,
      "outputs": [
        {
          "output_type": "stream",
          "name": "stdout",
          "text": [
            "Model: \"sequential_8\"\n",
            "_________________________________________________________________\n",
            " Layer (type)                Output Shape              Param #   \n",
            "=================================================================\n",
            " conv2d_20 (Conv2D)          (None, 26, 26, 4)         40        \n",
            "                                                                 \n",
            " max_pooling2d_16 (MaxPoolin  (None, 13, 13, 4)        0         \n",
            " g2D)                                                            \n",
            "                                                                 \n",
            " conv2d_21 (Conv2D)          (None, 11, 11, 8)         296       \n",
            "                                                                 \n",
            " max_pooling2d_17 (MaxPoolin  (None, 5, 5, 8)          0         \n",
            " g2D)                                                            \n",
            "                                                                 \n",
            " flatten_8 (Flatten)         (None, 200)               0         \n",
            "                                                                 \n",
            " dense_10 (Dense)            (None, 10)                2010      \n",
            "                                                                 \n",
            "=================================================================\n",
            "Total params: 2,346\n",
            "Trainable params: 2,346\n",
            "Non-trainable params: 0\n",
            "_________________________________________________________________\n"
          ]
        }
      ]
    },
    {
      "cell_type": "code",
      "source": [
        "callbacks_list = [keras.callbacks.EarlyStopping(monitor='val_accuracy', patience=3)]\n",
        "\n",
        "model_cnn.compile(loss='categorical_crossentropy',\n",
        "                optimizer='adam', metrics=['accuracy'])\n",
        "# 다른 최적화 알고리즘 'rmsprop'\n",
        "# 레이블로 원 핫 인코딩을 사용해야 한다\n",
        "h = model_cnn.fit(X_train_cnn,\n",
        "                      y_train_cat,\n",
        "                      batch_size=20,\n",
        "                      epochs=30,\n",
        "                      callbacks=callbacks_list,\n",
        "                      validation_split=0.2,\n",
        "                      verbose=1)"
      ],
      "metadata": {
        "id": "cm9EKCl4Deuh",
        "outputId": "cf1e07cd-e500-444d-fb4b-443490705b5a",
        "colab": {
          "base_uri": "https://localhost:8080/"
        }
      },
      "execution_count": 30,
      "outputs": [
        {
          "output_type": "stream",
          "name": "stdout",
          "text": [
            "Epoch 1/30\n",
            "2400/2400 [==============================] - 12s 4ms/step - loss: 1.2324 - accuracy: 0.8464 - val_loss: 0.1795 - val_accuracy: 0.9463\n",
            "Epoch 2/30\n",
            "2400/2400 [==============================] - 10s 4ms/step - loss: 0.1584 - accuracy: 0.9520 - val_loss: 0.1153 - val_accuracy: 0.9639\n",
            "Epoch 3/30\n",
            "2400/2400 [==============================] - 9s 4ms/step - loss: 0.1140 - accuracy: 0.9663 - val_loss: 0.1005 - val_accuracy: 0.9697\n",
            "Epoch 4/30\n",
            "2400/2400 [==============================] - 10s 4ms/step - loss: 0.0975 - accuracy: 0.9701 - val_loss: 0.0871 - val_accuracy: 0.9744\n",
            "Epoch 5/30\n",
            "2400/2400 [==============================] - 9s 4ms/step - loss: 0.0853 - accuracy: 0.9732 - val_loss: 0.0984 - val_accuracy: 0.9717\n",
            "Epoch 6/30\n",
            "2400/2400 [==============================] - 9s 4ms/step - loss: 0.0765 - accuracy: 0.9760 - val_loss: 0.0822 - val_accuracy: 0.9774\n",
            "Epoch 7/30\n",
            "2400/2400 [==============================] - 9s 4ms/step - loss: 0.0712 - accuracy: 0.9780 - val_loss: 0.0988 - val_accuracy: 0.9705\n",
            "Epoch 8/30\n",
            "2400/2400 [==============================] - 9s 4ms/step - loss: 0.0663 - accuracy: 0.9793 - val_loss: 0.0812 - val_accuracy: 0.9770\n",
            "Epoch 9/30\n",
            "2400/2400 [==============================] - 9s 4ms/step - loss: 0.0639 - accuracy: 0.9800 - val_loss: 0.0783 - val_accuracy: 0.9758\n"
          ]
        }
      ]
    },
    {
      "cell_type": "code",
      "source": [
        "test_loss, test_acc = model_cnn.evaluate(X_test_cnn, y_test_cat)\n",
        "print('test_acc = ',test_acc)"
      ],
      "metadata": {
        "id": "kOmQYJDSG_X_",
        "outputId": "cfbed4ea-cd98-4d9b-b7b0-96289f655a59",
        "colab": {
          "base_uri": "https://localhost:8080/"
        }
      },
      "execution_count": 31,
      "outputs": [
        {
          "output_type": "stream",
          "name": "stdout",
          "text": [
            "313/313 [==============================] - 1s 3ms/step - loss: 0.0865 - accuracy: 0.9746\n",
            "test_acc =  0.9746000170707703\n"
          ]
        }
      ]
    },
    {
      "cell_type": "code",
      "source": [],
      "metadata": {
        "id": "KUg8qYuPG_1Y"
      },
      "execution_count": null,
      "outputs": []
    }
  ],
  "metadata": {
    "accelerator": "GPU",
    "colab": {
      "provenance": []
    },
    "kernelspec": {
      "display_name": "Python 3",
      "language": "python",
      "name": "python3"
    },
    "language_info": {
      "codemirror_mode": {
        "name": "ipython",
        "version": 3
      },
      "file_extension": ".py",
      "mimetype": "text/x-python",
      "name": "python",
      "nbconvert_exporter": "python",
      "pygments_lexer": "ipython3",
      "version": "3.8.8"
    },
    "toc": {
      "base_numbering": 1,
      "nav_menu": {},
      "number_sections": false,
      "sideBar": true,
      "skip_h1_title": false,
      "title_cell": "Table of Contents",
      "title_sidebar": "Contents",
      "toc_cell": false,
      "toc_position": {},
      "toc_section_display": true,
      "toc_window_display": true
    }
  },
  "nbformat": 4,
  "nbformat_minor": 0
}