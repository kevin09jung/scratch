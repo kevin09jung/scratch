{
  "cells": [
    {
      "cell_type": "markdown",
      "metadata": {
        "id": "C782Mi0eUmfS"
      },
      "source": [
        "# 데이터 전처리\n",
        "\n",
        "\n",
        "- 데이터를 분석에 사용할 때 성능이 더 좋게 나오도록 데이터를 수정하거나 형태를 변형하는 작업\n",
        "- data preprocessing\n",
        "\n",
        "<img src=\"https://raw.githubusercontent.com/data-labs/image/main/%E1%84%89%E1%85%B3%E1%84%8F%E1%85%B3%E1%84%85%E1%85%B5%E1%86%AB%E1%84%89%E1%85%A3%E1%86%BA%202021-01-07%20%E1%84%8B%E1%85%A9%E1%84%92%E1%85%AE%204.33.49.png?raw=1\" width=500  align='left'>  \n"
      ]
    },
    {
      "cell_type": "markdown",
      "metadata": {
        "id": "udBQBdxxUmfT"
      },
      "source": [
        "\n",
        "## 데이터 전처리 종류\n",
        "\n",
        "- 데이터 클리닝 - 결측치 처리, 틀린값 처리\n",
        "- 이상치 처리 - 이상치 탐지 및 제거\n",
        "- 데이터 변환 - 로그 변환, 카테고리 인코딩 등\n",
        "- 스케일링 - 여러 변수 값의 범위를 동등한 조건으로 맞추는 것: 표준 스케일링, min-max 스케일링"
      ]
    },
    {
      "cell_type": "markdown",
      "metadata": {
        "id": "N64M7MuGUmfU"
      },
      "source": [
        "# 한글 설치"
      ]
    },
    {
      "cell_type": "markdown",
      "metadata": {
        "id": "VgWL_Yl4UmfU"
      },
      "source": [
        "## 코랩에 한글 폰트 설치\n",
        "- (주의!) 아래 셀을 실행 후에, 런타임 - 런타임 다시 시작을 수행해야 한다\n",
        " - 코랩은 리눅스 머신이면 한글이 미리 설치되어 있지 않다\n",
        " - 한글이 이미 설치된 PC에서는 아래 셀을 실행할 필요없다"
      ]
    },
    {
      "cell_type": "code",
      "execution_count": 1,
      "metadata": {
        "id": "podAxw6AUmfU",
        "outputId": "f491fb8f-2efa-4d94-9fd7-143c7e422ce0",
        "colab": {
          "base_uri": "https://localhost:8080/"
        }
      },
      "outputs": [
        {
          "output_type": "stream",
          "name": "stdout",
          "text": [
            "fonts-nanum is already the newest version (20180306-3).\n",
            "0 upgraded, 0 newly installed, 0 to remove and 38 not upgraded.\n",
            "Reading package lists... Done\n",
            "Building dependency tree       \n",
            "Reading state information... Done\n",
            "fonts-nanum is already the newest version (20180306-3).\n",
            "0 upgraded, 0 newly installed, 0 to remove and 38 not upgraded.\n",
            "/usr/share/fonts: caching, new cache contents: 0 fonts, 1 dirs\n",
            "/usr/share/fonts/truetype: caching, new cache contents: 0 fonts, 3 dirs\n",
            "/usr/share/fonts/truetype/humor-sans: caching, new cache contents: 1 fonts, 0 dirs\n",
            "/usr/share/fonts/truetype/liberation: caching, new cache contents: 16 fonts, 0 dirs\n",
            "/usr/share/fonts/truetype/nanum: caching, new cache contents: 10 fonts, 0 dirs\n",
            "/usr/local/share/fonts: caching, new cache contents: 0 fonts, 0 dirs\n",
            "/root/.local/share/fonts: skipping, no such directory\n",
            "/root/.fonts: skipping, no such directory\n",
            "/usr/share/fonts/truetype: skipping, looped directory detected\n",
            "/usr/share/fonts/truetype/humor-sans: skipping, looped directory detected\n",
            "/usr/share/fonts/truetype/liberation: skipping, looped directory detected\n",
            "/usr/share/fonts/truetype/nanum: skipping, looped directory detected\n",
            "/var/cache/fontconfig: cleaning cache directory\n",
            "/root/.cache/fontconfig: not cleaning non-existent cache directory\n",
            "/root/.fontconfig: not cleaning non-existent cache directory\n",
            "fc-cache: succeeded\n"
          ]
        }
      ],
      "source": [
        "# colab을 사용하는 경우만 이 셀을 실행하며, 실행 후 런타임 - 런타임 다시 시작 을 수행해야 한다\n",
        "# 한글이 설치된 PC에서는 이 셀을 실행할 필요 없음\n",
        "\n",
        "import matplotlib.pyplot as plt\n",
        "import matplotlib.font_manager as fm\n",
        " \n",
        "!apt -qq -y install fonts-nanum\n",
        "!sudo apt-get install -y fonts-nanum\n",
        "!sudo fc-cache -fv\n",
        "!rm ~/.cache/matplotlib -rf\n",
        "plt.rc('font', family='NanumBarunGothic') "
      ]
    },
    {
      "cell_type": "markdown",
      "metadata": {
        "id": "aLWHj4LjUmfV"
      },
      "source": [
        "## 한글 사용 설정\n",
        "- 그림에 한글이 보이게 하기 위해서 한글 사용을 설정한다.\n",
        "- 운영체제마다 명령이 다르다"
      ]
    },
    {
      "cell_type": "code",
      "execution_count": 2,
      "metadata": {
        "id": "ecNm2ldcUmfV"
      },
      "outputs": [],
      "source": [
        "import platform, matplotlib\n",
        "from matplotlib import rc\n",
        "\n",
        "# '-' 기호 제대로 보이기\n",
        "matplotlib.rcParams['axes.unicode_minus'] = False\n",
        "\n",
        "# 윈도우\n",
        "if platform.system() == 'Windows':\n",
        "    rc('font', family=\"Malgun Gothic\")\n",
        "# 맥\n",
        "elif platform.system() == 'Darwin':\n",
        "    rc('font', family='AppleGothic')\n",
        "# 리눅스\n",
        "elif platform.system() == 'Linux':\n",
        "    rc('font', family='NanumBarunGothic')"
      ]
    },
    {
      "cell_type": "markdown",
      "metadata": {
        "id": "3WMFeQhlSi4X"
      },
      "source": [
        "# 데이터\n",
        "- 키와 몸무게 데이터 생성\n",
        "- 평균 170cm, 65kg, 표준편차 4cm, 5kg"
      ]
    },
    {
      "cell_type": "markdown",
      "metadata": {
        "id": "XuwGQI7HUmfV"
      },
      "source": [
        "## import"
      ]
    },
    {
      "cell_type": "code",
      "execution_count": 26,
      "metadata": {
        "id": "jYVCMTwISi4P"
      },
      "outputs": [],
      "source": [
        "import numpy as np\n",
        "import pandas as pd\n",
        "import matplotlib.pyplot as plt\n",
        "from sklearn.preprocessing import StandardScaler\n",
        "\n",
        "%config InlineBackend.figure_format = 'retina'\n",
        "matplotlib.rcParams['figure.figsize'] = (6,4)\n",
        "matplotlib.rcParams.update({'font.size': 13})"
      ]
    },
    {
      "cell_type": "markdown",
      "metadata": {
        "id": "GYSpLP0dUmfW"
      },
      "source": [
        "## 데이터 생성\n",
        "- 임의의 키, 몸무게 데이터 생성"
      ]
    },
    {
      "cell_type": "code",
      "execution_count": null,
      "metadata": {
        "id": "Eb4toqHpSi4Y",
        "outputId": "768d8000-e741-494a-9223-0ddcf6366e08"
      },
      "outputs": [
        {
          "data": {
            "text/html": [
              "<div>\n",
              "<style scoped>\n",
              "    .dataframe tbody tr th:only-of-type {\n",
              "        vertical-align: middle;\n",
              "    }\n",
              "\n",
              "    .dataframe tbody tr th {\n",
              "        vertical-align: top;\n",
              "    }\n",
              "\n",
              "    .dataframe thead th {\n",
              "        text-align: right;\n",
              "    }\n",
              "</style>\n",
              "<table border=\"1\" class=\"dataframe\">\n",
              "  <thead>\n",
              "    <tr style=\"text-align: right;\">\n",
              "      <th></th>\n",
              "      <th>height</th>\n",
              "      <th>weight</th>\n",
              "    </tr>\n",
              "  </thead>\n",
              "  <tbody>\n",
              "    <tr>\n",
              "      <th>0</th>\n",
              "      <td>167.16</td>\n",
              "      <td>59.70</td>\n",
              "    </tr>\n",
              "    <tr>\n",
              "      <th>1</th>\n",
              "      <td>164.12</td>\n",
              "      <td>61.20</td>\n",
              "    </tr>\n",
              "    <tr>\n",
              "      <th>2</th>\n",
              "      <td>174.76</td>\n",
              "      <td>73.35</td>\n",
              "    </tr>\n",
              "    <tr>\n",
              "      <th>3</th>\n",
              "      <td>162.24</td>\n",
              "      <td>68.85</td>\n",
              "    </tr>\n",
              "    <tr>\n",
              "      <th>4</th>\n",
              "      <td>174.64</td>\n",
              "      <td>73.15</td>\n",
              "    </tr>\n",
              "  </tbody>\n",
              "</table>\n",
              "</div>"
            ],
            "text/plain": [
              "   height  weight\n",
              "0  167.16   59.70\n",
              "1  164.12   61.20\n",
              "2  174.76   73.35\n",
              "3  162.24   68.85\n",
              "4  174.64   73.15"
            ]
          },
          "execution_count": 3,
          "metadata": {},
          "output_type": "execute_result"
        }
      ],
      "source": [
        "## 100명의 키(170,4), 몸무게(65,5) 데이터 생성 \n",
        "\n",
        "N = 100\n",
        "height = 4*np.random.randn(N).round(2) + 170\n",
        "weight = 5*np.random.randn(N).round(2) + 65\n",
        "df = pd.DataFrame({\"height\": height, \"weight\": weight})\n",
        "df[:5]"
      ]
    },
    {
      "cell_type": "code",
      "execution_count": null,
      "metadata": {
        "id": "xyDO2kavUmfW",
        "outputId": "768036e1-24f0-4d07-d777-daf652573977"
      },
      "outputs": [
        {
          "data": {
            "text/html": [
              "<div>\n",
              "<style scoped>\n",
              "    .dataframe tbody tr th:only-of-type {\n",
              "        vertical-align: middle;\n",
              "    }\n",
              "\n",
              "    .dataframe tbody tr th {\n",
              "        vertical-align: top;\n",
              "    }\n",
              "\n",
              "    .dataframe thead th {\n",
              "        text-align: right;\n",
              "    }\n",
              "</style>\n",
              "<table border=\"1\" class=\"dataframe\">\n",
              "  <thead>\n",
              "    <tr style=\"text-align: right;\">\n",
              "      <th></th>\n",
              "      <th>height</th>\n",
              "      <th>weight</th>\n",
              "    </tr>\n",
              "  </thead>\n",
              "  <tbody>\n",
              "    <tr>\n",
              "      <th>0</th>\n",
              "      <td>167.16</td>\n",
              "      <td>59.70</td>\n",
              "    </tr>\n",
              "    <tr>\n",
              "      <th>1</th>\n",
              "      <td>164.12</td>\n",
              "      <td>61.20</td>\n",
              "    </tr>\n",
              "    <tr>\n",
              "      <th>2</th>\n",
              "      <td>NaN</td>\n",
              "      <td>73.35</td>\n",
              "    </tr>\n",
              "    <tr>\n",
              "      <th>3</th>\n",
              "      <td>162.24</td>\n",
              "      <td>NaN</td>\n",
              "    </tr>\n",
              "    <tr>\n",
              "      <th>4</th>\n",
              "      <td>174.64</td>\n",
              "      <td>73.15</td>\n",
              "    </tr>\n",
              "  </tbody>\n",
              "</table>\n",
              "</div>"
            ],
            "text/plain": [
              "   height  weight\n",
              "0  167.16   59.70\n",
              "1  164.12   61.20\n",
              "2     NaN   73.35\n",
              "3  162.24     NaN\n",
              "4  174.64   73.15"
            ]
          },
          "execution_count": 4,
          "metadata": {},
          "output_type": "execute_result"
        }
      ],
      "source": [
        "## 임의로 결측치 삽입\n",
        "\n",
        "df['height'][2] = np.nan\n",
        "df['weight'][3] = np.nan\n",
        "df[:5]"
      ]
    },
    {
      "cell_type": "markdown",
      "metadata": {
        "id": "XFvU-3DFUmfW"
      },
      "source": [
        "# 데이터 클리닝\n",
        "\n",
        "##  결측치 처리\n",
        "- 값이 비어 있는 것을 처리하는 것 (파이썬에서는 빈 값이 nan으로 표시된다: not a number)\n",
        "- 결측치를 처리하는 방법은 크게 세 가지가 있다\n",
        " - 결측치가 포함된 샘플(행)을 버린다\n",
        " - 결측치를 적절한 값으로 대체한다\n",
        " - 결측치 처리를 다음 분석 단계로 넘긴다. 즉, 결측치를 그대로 둔다\n",
        " \n",
        "##  틀린값 처리\n",
        "- 틀린값을 처리하는 방법도 결측치를 처리하는 방법과 같이 세가지이다\n",
        " - 틀린 값이 포함된 샘플(행)을 버린다\n",
        " - 틀린 값을 적절한 값으로 대체한다\n",
        " - 틀린값 처리를 다음 분석 단계로 넘긴다. 즉, 틀린값을 그대로 둔다"
      ]
    },
    {
      "cell_type": "markdown",
      "metadata": {
        "id": "zamdSjw0UmfX"
      },
      "source": [
        "## 결측치 처리 실습\n",
        "\n",
        "- 결측치 확인은 np.isnull() 사용\n",
        "- 결측치 치환은 np.fillna() 사용"
      ]
    },
    {
      "cell_type": "code",
      "execution_count": null,
      "metadata": {
        "id": "XPO96OJNUmfX",
        "outputId": "398b1222-41b8-4532-85b5-72f9ac3a4d28"
      },
      "outputs": [
        {
          "data": {
            "text/plain": [
              "height    1\n",
              "weight    1\n",
              "dtype: int64"
            ]
          },
          "execution_count": 8,
          "metadata": {},
          "output_type": "execute_result"
        }
      ],
      "source": [
        "## 컬럼별 결측치 총 개수 보기\n",
        "\n",
        "df.isnull().sum()"
      ]
    },
    {
      "cell_type": "markdown",
      "metadata": {
        "id": "8A1WbpnSUmfX"
      },
      "source": [
        "### 결측치가 있는 행 삭제"
      ]
    },
    {
      "cell_type": "code",
      "execution_count": null,
      "metadata": {
        "id": "wqKVQP58UmfX",
        "outputId": "3ef34ac6-008b-4055-a783-e9e0d79e0ff4"
      },
      "outputs": [
        {
          "name": "stdout",
          "output_type": "stream",
          "text": [
            "(98, 2)\n"
          ]
        },
        {
          "data": {
            "text/html": [
              "<div>\n",
              "<style scoped>\n",
              "    .dataframe tbody tr th:only-of-type {\n",
              "        vertical-align: middle;\n",
              "    }\n",
              "\n",
              "    .dataframe tbody tr th {\n",
              "        vertical-align: top;\n",
              "    }\n",
              "\n",
              "    .dataframe thead th {\n",
              "        text-align: right;\n",
              "    }\n",
              "</style>\n",
              "<table border=\"1\" class=\"dataframe\">\n",
              "  <thead>\n",
              "    <tr style=\"text-align: right;\">\n",
              "      <th></th>\n",
              "      <th>height</th>\n",
              "      <th>weight</th>\n",
              "    </tr>\n",
              "  </thead>\n",
              "  <tbody>\n",
              "    <tr>\n",
              "      <th>0</th>\n",
              "      <td>160.40</td>\n",
              "      <td>57.85</td>\n",
              "    </tr>\n",
              "    <tr>\n",
              "      <th>1</th>\n",
              "      <td>169.92</td>\n",
              "      <td>68.00</td>\n",
              "    </tr>\n",
              "    <tr>\n",
              "      <th>4</th>\n",
              "      <td>171.40</td>\n",
              "      <td>77.20</td>\n",
              "    </tr>\n",
              "    <tr>\n",
              "      <th>5</th>\n",
              "      <td>170.36</td>\n",
              "      <td>68.15</td>\n",
              "    </tr>\n",
              "    <tr>\n",
              "      <th>6</th>\n",
              "      <td>168.12</td>\n",
              "      <td>64.75</td>\n",
              "    </tr>\n",
              "  </tbody>\n",
              "</table>\n",
              "</div>"
            ],
            "text/plain": [
              "   height  weight\n",
              "0  160.40   57.85\n",
              "1  169.92   68.00\n",
              "4  171.40   77.20\n",
              "5  170.36   68.15\n",
              "6  168.12   64.75"
            ]
          },
          "execution_count": 9,
          "metadata": {},
          "output_type": "execute_result"
        }
      ],
      "source": [
        "## 결측치가 하나라도 있는 행(샘플) 삭제하기\n",
        "\n",
        "df2 = df.dropna()\n",
        "print(df2.shape)\n",
        "df2[:5]"
      ]
    },
    {
      "cell_type": "markdown",
      "metadata": {
        "id": "4QxYzzBQUmfX"
      },
      "source": [
        "### 결측치 대체"
      ]
    },
    {
      "cell_type": "code",
      "execution_count": null,
      "metadata": {
        "id": "YOrJo8AfUmfX",
        "outputId": "b7bbc742-27de-4ee5-ef1b-a8fddfe04a41"
      },
      "outputs": [
        {
          "name": "stdout",
          "output_type": "stream",
          "text": [
            "(100, 2)\n"
          ]
        },
        {
          "data": {
            "text/html": [
              "<div>\n",
              "<style scoped>\n",
              "    .dataframe tbody tr th:only-of-type {\n",
              "        vertical-align: middle;\n",
              "    }\n",
              "\n",
              "    .dataframe tbody tr th {\n",
              "        vertical-align: top;\n",
              "    }\n",
              "\n",
              "    .dataframe thead th {\n",
              "        text-align: right;\n",
              "    }\n",
              "</style>\n",
              "<table border=\"1\" class=\"dataframe\">\n",
              "  <thead>\n",
              "    <tr style=\"text-align: right;\">\n",
              "      <th></th>\n",
              "      <th>height</th>\n",
              "      <th>weight</th>\n",
              "    </tr>\n",
              "  </thead>\n",
              "  <tbody>\n",
              "    <tr>\n",
              "      <th>0</th>\n",
              "      <td>160.40</td>\n",
              "      <td>57.850000</td>\n",
              "    </tr>\n",
              "    <tr>\n",
              "      <th>1</th>\n",
              "      <td>169.92</td>\n",
              "      <td>68.000000</td>\n",
              "    </tr>\n",
              "    <tr>\n",
              "      <th>2</th>\n",
              "      <td>170.00</td>\n",
              "      <td>66.250000</td>\n",
              "    </tr>\n",
              "    <tr>\n",
              "      <th>3</th>\n",
              "      <td>171.44</td>\n",
              "      <td>65.027273</td>\n",
              "    </tr>\n",
              "    <tr>\n",
              "      <th>4</th>\n",
              "      <td>171.40</td>\n",
              "      <td>77.200000</td>\n",
              "    </tr>\n",
              "  </tbody>\n",
              "</table>\n",
              "</div>"
            ],
            "text/plain": [
              "   height     weight\n",
              "0  160.40  57.850000\n",
              "1  169.92  68.000000\n",
              "2  170.00  66.250000\n",
              "3  171.44  65.027273\n",
              "4  171.40  77.200000"
            ]
          },
          "execution_count": 12,
          "metadata": {},
          "output_type": "execute_result"
        }
      ],
      "source": [
        "## 결측치 대체하기 (키는 170으로 몸무게는 평균치로 대체)\n",
        "\n",
        "df3 = df.copy()\n",
        "df3['height'].fillna(170, inplace=True)\n",
        "df3['weight'].fillna(df3['weight'].mean(), inplace=True)\n",
        "print(df3.shape)\n",
        "df3[:5]"
      ]
    },
    {
      "cell_type": "code",
      "execution_count": null,
      "metadata": {
        "id": "WWG-C0wfUmfX",
        "outputId": "7d639a09-ff4d-485e-80e2-c8d98703e60c"
      },
      "outputs": [
        {
          "data": {
            "text/html": [
              "<div>\n",
              "<style scoped>\n",
              "    .dataframe tbody tr th:only-of-type {\n",
              "        vertical-align: middle;\n",
              "    }\n",
              "\n",
              "    .dataframe tbody tr th {\n",
              "        vertical-align: top;\n",
              "    }\n",
              "\n",
              "    .dataframe thead th {\n",
              "        text-align: right;\n",
              "    }\n",
              "</style>\n",
              "<table border=\"1\" class=\"dataframe\">\n",
              "  <thead>\n",
              "    <tr style=\"text-align: right;\">\n",
              "      <th></th>\n",
              "      <th>height</th>\n",
              "      <th>weight</th>\n",
              "    </tr>\n",
              "  </thead>\n",
              "  <tbody>\n",
              "    <tr>\n",
              "      <th>0</th>\n",
              "      <td>160.40</td>\n",
              "      <td>57.85</td>\n",
              "    </tr>\n",
              "    <tr>\n",
              "      <th>1</th>\n",
              "      <td>169.92</td>\n",
              "      <td>68.00</td>\n",
              "    </tr>\n",
              "    <tr>\n",
              "      <th>2</th>\n",
              "      <td>171.44</td>\n",
              "      <td>66.25</td>\n",
              "    </tr>\n",
              "    <tr>\n",
              "      <th>3</th>\n",
              "      <td>171.44</td>\n",
              "      <td>77.20</td>\n",
              "    </tr>\n",
              "    <tr>\n",
              "      <th>4</th>\n",
              "      <td>171.40</td>\n",
              "      <td>77.20</td>\n",
              "    </tr>\n",
              "  </tbody>\n",
              "</table>\n",
              "</div>"
            ],
            "text/plain": [
              "   height  weight\n",
              "0  160.40   57.85\n",
              "1  169.92   68.00\n",
              "2  171.44   66.25\n",
              "3  171.44   77.20\n",
              "4  171.40   77.20"
            ]
          },
          "execution_count": 14,
          "metadata": {},
          "output_type": "execute_result"
        }
      ],
      "source": [
        "## 결측치를 바로 이전 값으로 대체하는 경우 (forward fill)\n",
        "\n",
        "df.fillna(method=\"bfill\")[:5]"
      ]
    },
    {
      "cell_type": "code",
      "execution_count": null,
      "metadata": {
        "id": "Zt_yWfAPUmfY",
        "outputId": "19710dd2-1b79-4c8f-d90e-1c26e39cb7b1"
      },
      "outputs": [
        {
          "data": {
            "text/html": [
              "<div>\n",
              "<style scoped>\n",
              "    .dataframe tbody tr th:only-of-type {\n",
              "        vertical-align: middle;\n",
              "    }\n",
              "\n",
              "    .dataframe tbody tr th {\n",
              "        vertical-align: top;\n",
              "    }\n",
              "\n",
              "    .dataframe thead th {\n",
              "        text-align: right;\n",
              "    }\n",
              "</style>\n",
              "<table border=\"1\" class=\"dataframe\">\n",
              "  <thead>\n",
              "    <tr style=\"text-align: right;\">\n",
              "      <th></th>\n",
              "      <th>height</th>\n",
              "      <th>weight</th>\n",
              "    </tr>\n",
              "  </thead>\n",
              "  <tbody>\n",
              "    <tr>\n",
              "      <th>0</th>\n",
              "      <td>170.44</td>\n",
              "      <td>57.850000</td>\n",
              "    </tr>\n",
              "    <tr>\n",
              "      <th>1</th>\n",
              "      <td>175.80</td>\n",
              "      <td>62.750000</td>\n",
              "    </tr>\n",
              "    <tr>\n",
              "      <th>2</th>\n",
              "      <td>170.00</td>\n",
              "      <td>69.550000</td>\n",
              "    </tr>\n",
              "    <tr>\n",
              "      <th>3</th>\n",
              "      <td>169.40</td>\n",
              "      <td>65.338384</td>\n",
              "    </tr>\n",
              "    <tr>\n",
              "      <th>4</th>\n",
              "      <td>171.96</td>\n",
              "      <td>67.050000</td>\n",
              "    </tr>\n",
              "  </tbody>\n",
              "</table>\n",
              "</div>"
            ],
            "text/plain": [
              "   height     weight\n",
              "0  170.44  57.850000\n",
              "1  175.80  62.750000\n",
              "2  170.00  69.550000\n",
              "3  169.40  65.338384\n",
              "4  171.96  67.050000"
            ]
          },
          "execution_count": 9,
          "metadata": {},
          "output_type": "execute_result"
        }
      ],
      "source": [
        "df = df3.copy()\n",
        "df[:5]"
      ]
    },
    {
      "cell_type": "markdown",
      "metadata": {
        "id": "1Z4VEtPYUmfY"
      },
      "source": [
        "# 이상치 처리\n",
        "- 이상치 처리의 목적은 두가지 이다\n",
        " - 1) 이상치를 제거하여 데이터 분석의 정확도를 높이려는 경우\n",
        " - 2) 이상치를 찾는 것 자체가 목적인 경우 (outlier detection)  \n",
        " \n",
        "- 아래는 모두 같은 상관계수를 같는 데이터 셋이다\n",
        "\n",
        "<img src=\"https://raw.githubusercontent.com/data-labs/image/main/%E1%84%89%E1%85%B3%E1%84%8F%E1%85%B3%E1%84%85%E1%85%B5%E1%86%AB%E1%84%89%E1%85%A3%E1%86%BA%202021-01-03%20%E1%84%8B%E1%85%A9%E1%84%92%E1%85%AE%201.47.02.png?raw=1\" width=400 align='left'>"
      ]
    },
    {
      "cell_type": "markdown",
      "metadata": {
        "id": "z_DfXlZWUmfY"
      },
      "source": [
        "## 이상치 탐지\n",
        " - boxplot()을 보면 이상치 존재를 파악하기 쉽다\n",
        " - 표준 스케일링 한 후 값이 큰 것들 (예 6 이상)을 찾는 방법이 일반적이다"
      ]
    },
    {
      "cell_type": "markdown",
      "metadata": {
        "id": "TJktD35eUmfY"
      },
      "source": [
        "# 데이터 변환\n",
        "\n",
        "- 카테고리 인코딩\n",
        "- 원 핫 인코딩\n",
        "- 로그변환\n",
        "- 역수변환"
      ]
    },
    {
      "cell_type": "markdown",
      "metadata": {
        "id": "_5jrte3EUmfY"
      },
      "source": []
    },
    {
      "cell_type": "markdown",
      "metadata": {
        "id": "1gH09dS0UmfY"
      },
      "source": [
        "# 카테고리 인코딩"
      ]
    },
    {
      "cell_type": "code",
      "execution_count": null,
      "metadata": {
        "id": "9Sz8_5jxUmfY",
        "outputId": "295d2b30-ced4-440a-9748-e3313affb4a0"
      },
      "outputs": [
        {
          "data": {
            "text/html": [
              "<div>\n",
              "<style scoped>\n",
              "    .dataframe tbody tr th:only-of-type {\n",
              "        vertical-align: middle;\n",
              "    }\n",
              "\n",
              "    .dataframe tbody tr th {\n",
              "        vertical-align: top;\n",
              "    }\n",
              "\n",
              "    .dataframe thead th {\n",
              "        text-align: right;\n",
              "    }\n",
              "</style>\n",
              "<table border=\"1\" class=\"dataframe\">\n",
              "  <thead>\n",
              "    <tr style=\"text-align: right;\">\n",
              "      <th></th>\n",
              "      <th>height</th>\n",
              "      <th>weight</th>\n",
              "      <th>nation</th>\n",
              "    </tr>\n",
              "  </thead>\n",
              "  <tbody>\n",
              "    <tr>\n",
              "      <th>0</th>\n",
              "      <td>160.40</td>\n",
              "      <td>57.850000</td>\n",
              "      <td>한국</td>\n",
              "    </tr>\n",
              "    <tr>\n",
              "      <th>1</th>\n",
              "      <td>169.92</td>\n",
              "      <td>68.000000</td>\n",
              "      <td>중국</td>\n",
              "    </tr>\n",
              "    <tr>\n",
              "      <th>2</th>\n",
              "      <td>170.00</td>\n",
              "      <td>66.250000</td>\n",
              "      <td>일본</td>\n",
              "    </tr>\n",
              "    <tr>\n",
              "      <th>3</th>\n",
              "      <td>171.44</td>\n",
              "      <td>65.027273</td>\n",
              "      <td>한국</td>\n",
              "    </tr>\n",
              "    <tr>\n",
              "      <th>4</th>\n",
              "      <td>171.40</td>\n",
              "      <td>77.200000</td>\n",
              "      <td>일본</td>\n",
              "    </tr>\n",
              "  </tbody>\n",
              "</table>\n",
              "</div>"
            ],
            "text/plain": [
              "   height     weight nation\n",
              "0  160.40  57.850000     한국\n",
              "1  169.92  68.000000     중국\n",
              "2  170.00  66.250000     일본\n",
              "3  171.44  65.027273     한국\n",
              "4  171.40  77.200000     일본"
            ]
          },
          "execution_count": 15,
          "metadata": {},
          "output_type": "execute_result"
        }
      ],
      "source": [
        "## 카테고리 인코딩을 위한 데이터 생성 (국적 컬럼을 추가)\n",
        "\n",
        "human = df3[['height','weight']][:5]\n",
        "human['nation'] = ['한국', '중국', '일본', '한국', '일본']\n",
        "human"
      ]
    },
    {
      "cell_type": "code",
      "execution_count": null,
      "metadata": {
        "id": "6rql7MH3UmfY",
        "outputId": "3a1a2280-c781-4383-d009-cacac3315e04"
      },
      "outputs": [
        {
          "data": {
            "text/html": [
              "<div>\n",
              "<style scoped>\n",
              "    .dataframe tbody tr th:only-of-type {\n",
              "        vertical-align: middle;\n",
              "    }\n",
              "\n",
              "    .dataframe tbody tr th {\n",
              "        vertical-align: top;\n",
              "    }\n",
              "\n",
              "    .dataframe thead th {\n",
              "        text-align: right;\n",
              "    }\n",
              "</style>\n",
              "<table border=\"1\" class=\"dataframe\">\n",
              "  <thead>\n",
              "    <tr style=\"text-align: right;\">\n",
              "      <th></th>\n",
              "      <th>height</th>\n",
              "      <th>weight</th>\n",
              "      <th>nation_일본</th>\n",
              "      <th>nation_중국</th>\n",
              "      <th>nation_한국</th>\n",
              "    </tr>\n",
              "  </thead>\n",
              "  <tbody>\n",
              "    <tr>\n",
              "      <th>0</th>\n",
              "      <td>170.44</td>\n",
              "      <td>57.850000</td>\n",
              "      <td>0</td>\n",
              "      <td>0</td>\n",
              "      <td>1</td>\n",
              "    </tr>\n",
              "    <tr>\n",
              "      <th>1</th>\n",
              "      <td>175.80</td>\n",
              "      <td>62.750000</td>\n",
              "      <td>0</td>\n",
              "      <td>1</td>\n",
              "      <td>0</td>\n",
              "    </tr>\n",
              "    <tr>\n",
              "      <th>2</th>\n",
              "      <td>170.00</td>\n",
              "      <td>69.550000</td>\n",
              "      <td>1</td>\n",
              "      <td>0</td>\n",
              "      <td>0</td>\n",
              "    </tr>\n",
              "    <tr>\n",
              "      <th>3</th>\n",
              "      <td>169.40</td>\n",
              "      <td>65.338384</td>\n",
              "      <td>0</td>\n",
              "      <td>0</td>\n",
              "      <td>1</td>\n",
              "    </tr>\n",
              "    <tr>\n",
              "      <th>4</th>\n",
              "      <td>171.96</td>\n",
              "      <td>67.050000</td>\n",
              "      <td>1</td>\n",
              "      <td>0</td>\n",
              "      <td>0</td>\n",
              "    </tr>\n",
              "  </tbody>\n",
              "</table>\n",
              "</div>"
            ],
            "text/plain": [
              "   height     weight  nation_일본  nation_중국  nation_한국\n",
              "0  170.44  57.850000          0          0          1\n",
              "1  175.80  62.750000          0          1          0\n",
              "2  170.00  69.550000          1          0          0\n",
              "3  169.40  65.338384          0          0          1\n",
              "4  171.96  67.050000          1          0          0"
            ]
          },
          "execution_count": 11,
          "metadata": {},
          "output_type": "execute_result"
        }
      ],
      "source": [
        "## humna 에서 nation 컬럼을 원핫 인코딩하는 방법\n",
        "\n",
        "pd.get_dummies(human, ['nation'])"
      ]
    },
    {
      "cell_type": "markdown",
      "metadata": {
        "id": "oGKth5HyUmfZ"
      },
      "source": [
        "## 로그 변환\n",
        "\n",
        "- 어떤 변수는 로그를 취해야 입출력 관계에서 선형적인 변화(효과)를 표현하는 경우가 있다\n",
        "- 예: 돈, 생물학적 자극과 반응 관계 (청각, 미각, 후각, 압력 등)\n",
        "- 데이터 분석에서는 입출력 관계가 선형적일 때 가장 잘 예측할 수 있다 (선형적일수록 예측이 잘 된다)"
      ]
    },
    {
      "cell_type": "code",
      "execution_count": 3,
      "metadata": {
        "id": "HRWKYCKpUmfZ",
        "outputId": "6faeec8b-fd46-4d85-c399-1dd5965a9add",
        "colab": {
          "base_uri": "https://localhost:8080/",
          "height": 248
        }
      },
      "outputs": [
        {
          "output_type": "error",
          "ename": "NameError",
          "evalue": "ignored",
          "traceback": [
            "\u001b[0;31m---------------------------------------------------------------------------\u001b[0m",
            "\u001b[0;31mNameError\u001b[0m                                 Traceback (most recent call last)",
            "\u001b[0;32m<ipython-input-3-1eb5efc82908>\u001b[0m in \u001b[0;36m<cell line: 4>\u001b[0;34m()\u001b[0m\n\u001b[1;32m      2\u001b[0m \u001b[0;31m# (해석) 로그 함수의 기울기는 1/x 이다. 즉 만족도 증가는 현재 가진 돈의 크기에 반비례한다\u001b[0m\u001b[0;34m\u001b[0m\u001b[0;34m\u001b[0m\u001b[0m\n\u001b[1;32m      3\u001b[0m \u001b[0;31m# 소리의 변화와 느끼는 감각의 변화\u001b[0m\u001b[0;34m\u001b[0m\u001b[0;34m\u001b[0m\u001b[0m\n\u001b[0;32m----> 4\u001b[0;31m \u001b[0mx\u001b[0m \u001b[0;34m=\u001b[0m \u001b[0mnp\u001b[0m\u001b[0;34m.\u001b[0m\u001b[0marange\u001b[0m\u001b[0;34m(\u001b[0m\u001b[0;36m1\u001b[0m\u001b[0;34m,\u001b[0m\u001b[0;36m1000\u001b[0m\u001b[0;34m)\u001b[0m\u001b[0;34m\u001b[0m\u001b[0;34m\u001b[0m\u001b[0m\n\u001b[0m\u001b[1;32m      5\u001b[0m \u001b[0mplt\u001b[0m\u001b[0;34m.\u001b[0m\u001b[0mplot\u001b[0m\u001b[0;34m(\u001b[0m\u001b[0mx\u001b[0m\u001b[0;34m,\u001b[0m\u001b[0mnp\u001b[0m\u001b[0;34m.\u001b[0m\u001b[0mlog\u001b[0m\u001b[0;34m(\u001b[0m\u001b[0mx\u001b[0m\u001b[0;34m)\u001b[0m\u001b[0;34m)\u001b[0m\u001b[0;34m\u001b[0m\u001b[0;34m\u001b[0m\u001b[0m\n\u001b[1;32m      6\u001b[0m \u001b[0mplt\u001b[0m\u001b[0;34m.\u001b[0m\u001b[0mxlabel\u001b[0m\u001b[0;34m(\u001b[0m\u001b[0;34m'실제 소리의 크기'\u001b[0m\u001b[0;34m)\u001b[0m\u001b[0;34m\u001b[0m\u001b[0;34m\u001b[0m\u001b[0m\n",
            "\u001b[0;31mNameError\u001b[0m: name 'np' is not defined"
          ]
        }
      ],
      "source": [
        "# 돈의 수입과 만족도의 관계는 대체로 로그 함수를 따른다 (생물학적 반응)\n",
        "# (해석) 로그 함수의 기울기는 1/x 이다. 즉 만족도 증가는 현재 가진 돈의 크기에 반비례한다\n",
        "# 소리의 변화와 느끼는 감각의 변화 \n",
        "x = np.arange(1,1000)\n",
        "plt.plot(x,np.log(x))\n",
        "plt.xlabel('실제 소리의 크기')\n",
        "plt.ylabel('느끼는 소리 크기')"
      ]
    },
    {
      "cell_type": "code",
      "execution_count": null,
      "metadata": {
        "scrolled": true,
        "id": "XzO9qe5TUmfZ",
        "outputId": "3bb98911-a45f-4f4b-ca13-1332589b933f"
      },
      "outputs": [
        {
          "data": {
            "image/png": "[encoded data removed]",
            "text/plain": [
              "<Figure size 432x288 with 1 Axes>"
            ]
          },
          "metadata": {
            "image/png": {
              "height": 268,
              "width": 381
            },
            "needs_background": "light"
          },
          "output_type": "display_data"
        }
      ],
      "source": [
        "# x 축을 로그 스케일로 그리면 (로그를 취하면) 입출력 관계가 선형적이 된다\n",
        "x = np.arange(1,1000)\n",
        "plt.plot(x,np.log(x))\n",
        "plt.xscale(\"log\")\n",
        "plt.xlabel('실제 소리의 크기')\n",
        "plt.ylabel('느끼는 소리 크기')\n",
        "plt.show()"
      ]
    },
    {
      "cell_type": "markdown",
      "metadata": {
        "id": "8ltSv7JKUmfZ"
      },
      "source": [
        "### log-normal 분포\n",
        "\n",
        "- 어떤 값에 로그를 취하면 정규분포를 갖는 특성의 데이터 (예: 국가별 수출액 분포)"
      ]
    },
    {
      "cell_type": "code",
      "execution_count": null,
      "metadata": {
        "id": "MDbloQPXUmfZ",
        "outputId": "e532e169-c276-449f-be5c-62cb33a534f7"
      },
      "outputs": [
        {
          "data": {
            "image/png": "[encoded data removed]",
            "text/plain": [
              "<Figure size 432x288 with 1 Axes>"
            ]
          },
          "metadata": {
            "image/png": {
              "height": 266,
              "width": 391
            },
            "needs_background": "light"
          },
          "output_type": "display_data"
        }
      ],
      "source": [
        "x = np.random.lognormal(2,0.5,10000)\n",
        "plt.hist(x, bins=30, width=0.9)\n",
        "plt.xlabel('로그-정규 분포')\n",
        "plt.show()"
      ]
    },
    {
      "cell_type": "code",
      "execution_count": null,
      "metadata": {
        "id": "fG4XZEDeUmfZ",
        "outputId": "38519171-efaf-4768-e2db-4afbd54dacdb"
      },
      "outputs": [
        {
          "data": {
            "image/png": "[encoded data removed]",
            "text/plain": [
              "<Figure size 432x288 with 1 Axes>"
            ]
          },
          "metadata": {
            "image/png": {
              "height": 267,
              "width": 391
            },
            "needs_background": "light"
          },
          "output_type": "display_data"
        }
      ],
      "source": [
        "plt.hist(np.log(x), bins=30, width=0.08)\n",
        "plt.xlabel('로그 스케일 분포(평균=2, 표준편차=0.5)')\n",
        "plt.show()"
      ]
    },
    {
      "cell_type": "markdown",
      "metadata": {
        "id": "s5EMGUtTSi5T"
      },
      "source": [
        "# 스케일링\n",
        "- 여러 변수 값의 범위가 서로 다른 경우 데이터 분석에서 동일한 비중으로 반영하기 위해서는 동일한 범위를 갖도록 변환해야 한다 (예: 과목 성적 100점 만점으로 환산)\n",
        "- 표준 스케일링을 가장 많이 사용한다 (평균이 0, 표준편차가 1이 되도록 변환)\n",
        "- 값의 최소치와 최대치가 정해진 경우는 min-max 스케링일도 자주 사용된다 (최소치를 0으로, 최대치를 1로)\n",
        "\n",
        "## 표준 스케일링\n",
        "\n",
        "\n",
        "<img src=\"https://raw.githubusercontent.com/data-labs/image/main/%E1%84%89%E1%85%B3%E1%84%8F%E1%85%B3%E1%84%85%E1%85%B5%E1%86%AB%E1%84%89%E1%85%A3%E1%86%BA%202021-01-05%20%E1%84%8B%E1%85%A9%E1%84%92%E1%85%AE%208.52.14.png?raw=1\" width=140  align='left'>"
      ]
    },
    {
      "cell_type": "code",
      "execution_count": null,
      "metadata": {
        "id": "J7Agg1zSSi5Y",
        "outputId": "fafab2eb-514c-443d-d8e3-043d51796ce1"
      },
      "outputs": [
        {
          "data": {
            "text/html": [
              "<div>\n",
              "<style scoped>\n",
              "    .dataframe tbody tr th:only-of-type {\n",
              "        vertical-align: middle;\n",
              "    }\n",
              "\n",
              "    .dataframe tbody tr th {\n",
              "        vertical-align: top;\n",
              "    }\n",
              "\n",
              "    .dataframe thead th {\n",
              "        text-align: right;\n",
              "    }\n",
              "</style>\n",
              "<table border=\"1\" class=\"dataframe\">\n",
              "  <thead>\n",
              "    <tr style=\"text-align: right;\">\n",
              "      <th></th>\n",
              "      <th>height</th>\n",
              "      <th>weight</th>\n",
              "      <th>h_sc</th>\n",
              "      <th>w_sc</th>\n",
              "      <th>h_mima</th>\n",
              "      <th>w_mima</th>\n",
              "    </tr>\n",
              "  </thead>\n",
              "  <tbody>\n",
              "    <tr>\n",
              "      <th>0</th>\n",
              "      <td>170.44</td>\n",
              "      <td>57.850000</td>\n",
              "      <td>0.137857</td>\n",
              "      <td>-1.392551</td>\n",
              "      <td>0.571429</td>\n",
              "      <td>0.137681</td>\n",
              "    </tr>\n",
              "    <tr>\n",
              "      <th>1</th>\n",
              "      <td>175.80</td>\n",
              "      <td>62.750000</td>\n",
              "      <td>1.459235</td>\n",
              "      <td>-0.481340</td>\n",
              "      <td>0.823308</td>\n",
              "      <td>0.315217</td>\n",
              "    </tr>\n",
              "    <tr>\n",
              "      <th>2</th>\n",
              "      <td>170.00</td>\n",
              "      <td>69.550000</td>\n",
              "      <td>0.029386</td>\n",
              "      <td>0.783199</td>\n",
              "      <td>0.550752</td>\n",
              "      <td>0.561594</td>\n",
              "    </tr>\n",
              "    <tr>\n",
              "      <th>3</th>\n",
              "      <td>169.40</td>\n",
              "      <td>65.338384</td>\n",
              "      <td>-0.118530</td>\n",
              "      <td>0.000000</td>\n",
              "      <td>0.522556</td>\n",
              "      <td>0.408999</td>\n",
              "    </tr>\n",
              "    <tr>\n",
              "      <th>4</th>\n",
              "      <td>171.96</td>\n",
              "      <td>67.050000</td>\n",
              "      <td>0.512576</td>\n",
              "      <td>0.318295</td>\n",
              "      <td>0.642857</td>\n",
              "      <td>0.471014</td>\n",
              "    </tr>\n",
              "  </tbody>\n",
              "</table>\n",
              "</div>"
            ],
            "text/plain": [
              "   height     weight      h_sc      w_sc    h_mima    w_mima\n",
              "0  170.44  57.850000  0.137857 -1.392551  0.571429  0.137681\n",
              "1  175.80  62.750000  1.459235 -0.481340  0.823308  0.315217\n",
              "2  170.00  69.550000  0.029386  0.783199  0.550752  0.561594\n",
              "3  169.40  65.338384 -0.118530  0.000000  0.522556  0.408999\n",
              "4  171.96  67.050000  0.512576  0.318295  0.642857  0.471014"
            ]
          },
          "execution_count": 16,
          "metadata": {},
          "output_type": "execute_result"
        }
      ],
      "source": [
        "## 키, 몸무게 데이터를 최소-최대 및 표준 스케일링한 결과 보기\n",
        "\n",
        "from sklearn.preprocessing import StandardScaler, MinMaxScaler\n",
        "scaler = StandardScaler()\n",
        "minmax = MinMaxScaler()\n",
        "\n",
        "df3[['h_sc','w_sc']]=scaler.fit_transform(df3[['height','weight']])\n",
        "df3[['h_mima','w_mima']]=minmax.fit_transform(df3[['height','weight']])\n",
        "df3[:5]"
      ]
    },
    {
      "cell_type": "code",
      "execution_count": null,
      "metadata": {
        "id": "PvQdE5b9Umfa",
        "outputId": "eafbc2e4-4bd4-40e3-eb33-d53763a17840"
      },
      "outputs": [
        {
          "name": "stdout",
          "output_type": "stream",
          "text": [
            "[169.8808      65.33838384] [4.05637071 5.37745678]\n"
          ]
        }
      ],
      "source": [
        "print(scaler.mean_, scaler.scale_)"
      ]
    },
    {
      "cell_type": "markdown",
      "metadata": {
        "id": "vhMbxpziUmfa"
      },
      "source": [
        "- 스케일링 이전의 원래 값으로 환원하는 방법\n",
        "- inverse_transform을 사용한다"
      ]
    },
    {
      "cell_type": "code",
      "execution_count": null,
      "metadata": {
        "id": "UlrjO8WVUmfa",
        "outputId": "db16f91d-239f-46ed-d4d7-a6c55675d71a"
      },
      "outputs": [
        {
          "data": {
            "text/plain": [
              "array([[170.44      ,  57.85      ],\n",
              "       [175.8       ,  62.75      ],\n",
              "       [170.        ,  69.55      ],\n",
              "       [169.4       ,  65.33838384],\n",
              "       [171.96      ,  67.05      ]])"
            ]
          },
          "execution_count": 18,
          "metadata": {},
          "output_type": "execute_result"
        }
      ],
      "source": [
        "## 스케일링 이전의 값으로 환원하기\n",
        "\n",
        "scaler.inverse_transform(df3[[\"h_sc\",\"w_sc\"]])[:5]"
      ]
    },
    {
      "cell_type": "markdown",
      "metadata": {
        "id": "quuKexa5Umfa"
      },
      "source": [
        "## (중요) fit_transform()과 transform()을 구분\n",
        "\n",
        "- 최초에 훈련데이터로 스케일링을 할때는 fit_transform()를 사용한다\n",
        "- 향후 테스트 데이터등 새로운 데이터를 스케일링할 때는 fit_transform()를 다시 수행하면 안되고, 앞에서 만든 scaler 객체가 제공하는 scaler.transform()을 호출해야 한다\n",
        " - 앞에서 만든 스케일링 조건(평균, 표준편차, 최대값, 최소값 등)과 동일한 방식으로 스케일링을 해야 하므로\n",
        " - fit_transform()를 다시 수행하면 스케일링 조건(평균, 표준편차, 최대값, 최소값 등)을 다시 계산한다"
      ]
    },
    {
      "cell_type": "code",
      "execution_count": null,
      "metadata": {
        "id": "bHSL1Zs_Umfa"
      },
      "outputs": [],
      "source": []
    }
  ],
  "metadata": {
    "colab": {
      "name": "g_06_범주형코딩_스케일링.ipynb",
      "provenance": []
    },
    "kernelspec": {
      "display_name": "Python 3",
      "language": "python",
      "name": "python3"
    },
    "language_info": {
      "codemirror_mode": {
        "name": "ipython",
        "version": 3
      },
      "file_extension": ".py",
      "mimetype": "text/x-python",
      "name": "python",
      "nbconvert_exporter": "python",
      "pygments_lexer": "ipython3",
      "version": "3.8.8"
    },
    "toc": {
      "base_numbering": 1,
      "nav_menu": {},
      "number_sections": false,
      "sideBar": true,
      "skip_h1_title": false,
      "title_cell": "Table of Contents",
      "title_sidebar": "Contents",
      "toc_cell": false,
      "toc_position": {
        "height": "calc(100% - 180px)",
        "left": "10px",
        "top": "150px",
        "width": "165px"
      },
      "toc_section_display": true,
      "toc_window_display": false
    }
  },
  "nbformat": 4,
  "nbformat_minor": 0
}