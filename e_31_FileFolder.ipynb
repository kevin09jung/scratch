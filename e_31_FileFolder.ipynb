{
  "cells": [
    {
      "cell_type": "markdown",
      "id": "347d5735",
      "metadata": {
        "id": "347d5735"
      },
      "source": [
        "# 파일 다루기\n",
        "- 파일 열기 open(), with로 열기\n",
        "- csv, xlsx 파일 다루기\n",
        "- zip 파일 다루기\n",
        "- 폴더 내 파일 목록 다루기 (glob, listdir)\n",
        "- 폴더/파일 생성과 삭제"
      ]
    },
    {
      "cell_type": "markdown",
      "id": "85c21065",
      "metadata": {
        "id": "85c21065"
      },
      "source": [
        "## import"
      ]
    },
    {
      "cell_type": "code",
      "execution_count": 1,
      "id": "9d63ff86",
      "metadata": {
        "id": "9d63ff86"
      },
      "outputs": [],
      "source": [
        "import pandas as pd\n",
        "import numpy as np\n",
        "from numpy.random import rand\n",
        "import csv\n",
        "import os\n",
        "from glob import glob"
      ]
    },
    {
      "cell_type": "markdown",
      "id": "a4a76086",
      "metadata": {
        "id": "a4a76086"
      },
      "source": [
        "##  데이터  생성과 저장하기\n",
        "- 숫자 데이터를 생성하고 csv 파일로 저장하기"
      ]
    },
    {
      "cell_type": "code",
      "execution_count": 2,
      "id": "ebdcfb7d",
      "metadata": {
        "scrolled": true,
        "id": "ebdcfb7d",
        "outputId": "ef8554cb-5d28-408d-8a24-ff7336a7139d",
        "colab": {
          "base_uri": "https://localhost:8080/"
        }
      },
      "outputs": [
        {
          "output_type": "stream",
          "name": "stdout",
          "text": [
            "<class 'numpy.ndarray'>\n",
            "<class 'str'>\n",
            "0.903\n",
            "0.216\n",
            "0.501\n",
            "0.355\n",
            "0.402\n",
            "0.074\n",
            "0.197\n",
            "0.744\n",
            "0.648\n",
            "0.805\n",
            "\n"
          ]
        }
      ],
      "source": [
        "## 0~1 사이의 랜덤 넘버 10개를 만들고 csv 파일에 저장하고 확인하기\n",
        "\n",
        "import numpy as np\n",
        "x1 = np.random.rand(10)\n",
        "print(type(x1))         # ndarray 타입\n",
        "\n",
        "np.savetxt(\"test_1.csv\", x1, delimiter=\",\", fmt = '%.3f')\n",
        "\n",
        "with open('test_1.csv') as f: \n",
        "    contents = f.read()\n",
        "    print(type(contents))  # str 타입\n",
        "    print(contents)"
      ]
    },
    {
      "cell_type": "markdown",
      "id": "b97fb30e",
      "metadata": {
        "id": "b97fb30e"
      },
      "source": [
        "- !cat, !type 등 명령어로 직접 보기"
      ]
    },
    {
      "cell_type": "code",
      "execution_count": 3,
      "id": "2e5f8a10",
      "metadata": {
        "id": "2e5f8a10",
        "outputId": "7bc5f47f-2ad9-47c0-fa1b-6708715bda9e",
        "colab": {
          "base_uri": "https://localhost:8080/"
        }
      },
      "outputs": [
        {
          "output_type": "stream",
          "name": "stdout",
          "text": [
            "0.903\n",
            "0.216\n",
            "0.501\n",
            "0.355\n",
            "0.402\n",
            "0.074\n",
            "0.197\n",
            "0.744\n",
            "0.648\n",
            "0.805\n"
          ]
        }
      ],
      "source": [
        "!cat test_1.csv # 맥이나 리눅스에서\n",
        "#!type test_1.csv  # 윈도우에서 "
      ]
    },
    {
      "cell_type": "code",
      "execution_count": 4,
      "id": "f84fa45b",
      "metadata": {
        "id": "f84fa45b",
        "outputId": "57633a92-578d-495c-ff13-c7018def0d1d",
        "colab": {
          "base_uri": "https://localhost:8080/"
        }
      },
      "outputs": [
        {
          "output_type": "stream",
          "name": "stdout",
          "text": [
            "<class 'numpy.ndarray'>\n",
            "[90.3 21.6 50.1 35.5 40.2  7.4 19.7 74.4 64.8 80.5]\n"
          ]
        }
      ],
      "source": [
        "## csv 파일을 어레이로 읽어서 100을 곱한 값 보기\n",
        "\n",
        "x = np.loadtxt('test_1.csv', delimiter=',')\n",
        "print(type(x))    # ndarray 타입\n",
        "print(x*100)"
      ]
    },
    {
      "cell_type": "markdown",
      "id": "dfa5787a",
      "metadata": {
        "id": "dfa5787a"
      },
      "source": [
        "### 2차원 구조 데이터"
      ]
    },
    {
      "cell_type": "code",
      "execution_count": 5,
      "id": "80eaf897",
      "metadata": {
        "id": "80eaf897",
        "outputId": "172dae91-9749-4912-ed37-3207cbc56b29",
        "colab": {
          "base_uri": "https://localhost:8080/"
        }
      },
      "outputs": [
        {
          "output_type": "stream",
          "name": "stdout",
          "text": [
            "<class 'str'>\n",
            "0,1,2,3,4,5\n",
            "6,7,8,9,10,11\n",
            "12,13,14,15,16,17\n",
            "18,19,20,21,22,23\n",
            "24,25,26,27,28,29\n",
            "\n"
          ]
        }
      ],
      "source": [
        "## 0~30 로 구성된 (5,6) 구조의 어레이를 csv 파일에 저장하기\n",
        "\n",
        "x2 = np.arange(30).reshape(5,6)\n",
        "\n",
        "np.savetxt(\"test_2.csv\", x2, delimiter=\",\", fmt = '%d')\n",
        "\n",
        "with open('test_2.csv') as f: \n",
        "    contents = f.read()\n",
        "    print(type(contents))  # str 타입\n",
        "    print(contents)"
      ]
    },
    {
      "cell_type": "code",
      "execution_count": 6,
      "id": "3d6c326b",
      "metadata": {
        "id": "3d6c326b",
        "outputId": "5d1a465d-6a81-4a25-db21-75c2c0d344c3",
        "colab": {
          "base_uri": "https://localhost:8080/"
        }
      },
      "outputs": [
        {
          "output_type": "stream",
          "name": "stdout",
          "text": [
            "<class 'numpy.ndarray'>\n",
            "[[ 0.  1.  2.  3.  4.  5.]\n",
            " [ 6.  7.  8.  9. 10. 11.]\n",
            " [12. 13. 14. 15. 16. 17.]\n",
            " [18. 19. 20. 21. 22. 23.]\n",
            " [24. 25. 26. 27. 28. 29.]]\n"
          ]
        }
      ],
      "source": [
        "## 2차원 csv 파일을 어레이로 읽는 예\n",
        "\n",
        "x = np.loadtxt('test_2.csv', delimiter=',')\n",
        "print(type(x))\n",
        "print(x)"
      ]
    },
    {
      "cell_type": "code",
      "execution_count": 7,
      "id": "d671f7d5",
      "metadata": {
        "id": "d671f7d5",
        "outputId": "3cf2b015-0402-4e33-e42e-d0afc3d0a3a4",
        "colab": {
          "base_uri": "https://localhost:8080/"
        }
      },
      "outputs": [
        {
          "output_type": "stream",
          "name": "stdout",
          "text": [
            "---- 3개의 행만 읽는다 ----\n",
            "[[ 0.  1.  2.  3.  4.  5.]\n",
            " [ 6.  7.  8.  9. 10. 11.]\n",
            " [12. 13. 14. 15. 16. 17.]\n",
            " [18. 19. 20. 21. 22. 23.]\n",
            " [24. 25. 26. 27. 28. 29.]]\n",
            "\n",
            "---- 처음 2개의 행은 읽지 않는다 ----\n",
            "[[12. 13. 14. 15. 16. 17.]\n",
            " [18. 19. 20. 21. 22. 23.]\n",
            " [24. 25. 26. 27. 28. 29.]]\n",
            "\n",
            "---- 컬럼을 (0,2,4)만 읽는다 ----\n",
            "[[ 0.  2.  4.]\n",
            " [ 6.  8. 10.]\n",
            " [12. 14. 16.]\n",
            " [18. 20. 22.]\n",
            " [24. 26. 28.]]\n"
          ]
        }
      ],
      "source": [
        "## loadtxt()가 제공하는 읽는 옵션\n",
        "\n",
        "print('---- 3개의 행만 읽는다 ----')\n",
        "x = np.loadtxt('test_2.csv', delimiter=',', max_rows=1000)\n",
        "print(x)\n",
        "\n",
        "print('\\n---- 처음 2개의 행은 읽지 않는다 ----')\n",
        "x = np.loadtxt('test_2.csv', delimiter=',', skiprows=2)\n",
        "print(x)\n",
        "\n",
        "print('\\n---- 컬럼을 (0,2,4)만 읽는다 ----')\n",
        "x = np.loadtxt('test_2.csv', delimiter=',', usecols=(0,2,4))\n",
        "print(x)"
      ]
    },
    {
      "cell_type": "code",
      "execution_count": 8,
      "id": "7a3bbb48",
      "metadata": {
        "id": "7a3bbb48",
        "outputId": "1beb843b-5e5a-4ab8-f470-910d67f7b774",
        "colab": {
          "base_uri": "https://localhost:8080/"
        }
      },
      "outputs": [
        {
          "output_type": "stream",
          "name": "stdout",
          "text": [
            "0,1,2,3,4,5\n",
            "6,7,8,9,10,11\n",
            "12,13,14,15,16,17\n",
            "18,19,20,21,22,23\n",
            "24,25,26,27,28,29\n"
          ]
        }
      ],
      "source": [
        "!cat test_2.csv"
      ]
    },
    {
      "cell_type": "markdown",
      "id": "278aa0e5",
      "metadata": {
        "id": "278aa0e5"
      },
      "source": [
        "## 데이터프레임으로 읽기"
      ]
    },
    {
      "cell_type": "code",
      "execution_count": 10,
      "id": "d56fac13",
      "metadata": {
        "id": "d56fac13",
        "outputId": "e721371b-272d-46b1-ddc0-5ebc54cacf10",
        "colab": {
          "base_uri": "https://localhost:8080/",
          "height": 175
        }
      },
      "outputs": [
        {
          "output_type": "execute_result",
          "data": {
            "text/plain": [
              "    0   1   2   3   4   5\n",
              "0   6   7   8   9  10  11\n",
              "1  12  13  14  15  16  17\n",
              "2  18  19  20  21  22  23\n",
              "3  24  25  26  27  28  29"
            ],
            "text/html": [
              "\n",
              "  <div id=\"df-d8950dc2-dccb-4954-bc1f-1f961dd7d49a\">\n",
              "    <div class=\"colab-df-container\">\n",
              "      <div>\n",
              "<style scoped>\n",
              "    .dataframe tbody tr th:only-of-type {\n",
              "        vertical-align: middle;\n",
              "    }\n",
              "\n",
              "    .dataframe tbody tr th {\n",
              "        vertical-align: top;\n",
              "    }\n",
              "\n",
              "    .dataframe thead th {\n",
              "        text-align: right;\n",
              "    }\n",
              "</style>\n",
              "<table border=\"1\" class=\"dataframe\">\n",
              "  <thead>\n",
              "    <tr style=\"text-align: right;\">\n",
              "      <th></th>\n",
              "      <th>0</th>\n",
              "      <th>1</th>\n",
              "      <th>2</th>\n",
              "      <th>3</th>\n",
              "      <th>4</th>\n",
              "      <th>5</th>\n",
              "    </tr>\n",
              "  </thead>\n",
              "  <tbody>\n",
              "    <tr>\n",
              "      <th>0</th>\n",
              "      <td>6</td>\n",
              "      <td>7</td>\n",
              "      <td>8</td>\n",
              "      <td>9</td>\n",
              "      <td>10</td>\n",
              "      <td>11</td>\n",
              "    </tr>\n",
              "    <tr>\n",
              "      <th>1</th>\n",
              "      <td>12</td>\n",
              "      <td>13</td>\n",
              "      <td>14</td>\n",
              "      <td>15</td>\n",
              "      <td>16</td>\n",
              "      <td>17</td>\n",
              "    </tr>\n",
              "    <tr>\n",
              "      <th>2</th>\n",
              "      <td>18</td>\n",
              "      <td>19</td>\n",
              "      <td>20</td>\n",
              "      <td>21</td>\n",
              "      <td>22</td>\n",
              "      <td>23</td>\n",
              "    </tr>\n",
              "    <tr>\n",
              "      <th>3</th>\n",
              "      <td>24</td>\n",
              "      <td>25</td>\n",
              "      <td>26</td>\n",
              "      <td>27</td>\n",
              "      <td>28</td>\n",
              "      <td>29</td>\n",
              "    </tr>\n",
              "  </tbody>\n",
              "</table>\n",
              "</div>\n",
              "      <button class=\"colab-df-convert\" onclick=\"convertToInteractive('df-d8950dc2-dccb-4954-bc1f-1f961dd7d49a')\"\n",
              "              title=\"Convert this dataframe to an interactive table.\"\n",
              "              style=\"display:none;\">\n",
              "        \n",
              "  <svg xmlns=\"http://www.w3.org/2000/svg\" height=\"24px\"viewBox=\"0 0 24 24\"\n",
              "       width=\"24px\">\n",
              "    <path d=\"M0 0h24v24H0V0z\" fill=\"none\"/>\n",
              "    <path d=\"M18.56 5.44l.94 2.06.94-2.06 2.06-.94-2.06-.94-.94-2.06-.94 2.06-2.06.94zm-11 1L8.5 8.5l.94-2.06 2.06-.94-2.06-.94L8.5 2.5l-.94 2.06-2.06.94zm10 10l.94 2.06.94-2.06 2.06-.94-2.06-.94-.94-2.06-.94 2.06-2.06.94z\"/><path d=\"M17.41 7.96l-1.37-1.37c-.4-.4-.92-.59-1.43-.59-.52 0-1.04.2-1.43.59L10.3 9.45l-7.72 7.72c-.78.78-.78 2.05 0 2.83L4 21.41c.39.39.9.59 1.41.59.51 0 1.02-.2 1.41-.59l7.78-7.78 2.81-2.81c.8-.78.8-2.07 0-2.86zM5.41 20L4 18.59l7.72-7.72 1.47 1.35L5.41 20z\"/>\n",
              "  </svg>\n",
              "      </button>\n",
              "      \n",
              "  <style>\n",
              "    .colab-df-container {\n",
              "      display:flex;\n",
              "      flex-wrap:wrap;\n",
              "      gap: 12px;\n",
              "    }\n",
              "\n",
              "    .colab-df-convert {\n",
              "      background-color: #E8F0FE;\n",
              "      border: none;\n",
              "      border-radius: 50%;\n",
              "      cursor: pointer;\n",
              "      display: none;\n",
              "      fill: #1967D2;\n",
              "      height: 32px;\n",
              "      padding: 0 0 0 0;\n",
              "      width: 32px;\n",
              "    }\n",
              "\n",
              "    .colab-df-convert:hover {\n",
              "      background-color: #E2EBFA;\n",
              "      box-shadow: 0px 1px 2px rgba(60, 64, 67, 0.3), 0px 1px 3px 1px rgba(60, 64, 67, 0.15);\n",
              "      fill: #174EA6;\n",
              "    }\n",
              "\n",
              "    [theme=dark] .colab-df-convert {\n",
              "      background-color: #3B4455;\n",
              "      fill: #D2E3FC;\n",
              "    }\n",
              "\n",
              "    [theme=dark] .colab-df-convert:hover {\n",
              "      background-color: #434B5C;\n",
              "      box-shadow: 0px 1px 3px 1px rgba(0, 0, 0, 0.15);\n",
              "      filter: drop-shadow(0px 1px 2px rgba(0, 0, 0, 0.3));\n",
              "      fill: #FFFFFF;\n",
              "    }\n",
              "  </style>\n",
              "\n",
              "      <script>\n",
              "        const buttonEl =\n",
              "          document.querySelector('#df-d8950dc2-dccb-4954-bc1f-1f961dd7d49a button.colab-df-convert');\n",
              "        buttonEl.style.display =\n",
              "          google.colab.kernel.accessAllowed ? 'block' : 'none';\n",
              "\n",
              "        async function convertToInteractive(key) {\n",
              "          const element = document.querySelector('#df-d8950dc2-dccb-4954-bc1f-1f961dd7d49a');\n",
              "          const dataTable =\n",
              "            await google.colab.kernel.invokeFunction('convertToInteractive',\n",
              "                                                     [key], {});\n",
              "          if (!dataTable) return;\n",
              "\n",
              "          const docLinkHtml = 'Like what you see? Visit the ' +\n",
              "            '<a target=\"_blank\" href=https://colab.research.google.com/notebooks/data_table.ipynb>data table notebook</a>'\n",
              "            + ' to learn more about interactive tables.';\n",
              "          element.innerHTML = '';\n",
              "          dataTable['output_type'] = 'display_data';\n",
              "          await google.colab.output.renderOutput(dataTable, element);\n",
              "          const docLink = document.createElement('div');\n",
              "          docLink.innerHTML = docLinkHtml;\n",
              "          element.appendChild(docLink);\n",
              "        }\n",
              "      </script>\n",
              "    </div>\n",
              "  </div>\n",
              "  "
            ]
          },
          "metadata": {},
          "execution_count": 10
        }
      ],
      "source": [
        "## 2차원 어레이를 데이터프레임으로 읽기\n",
        "\n",
        "df = pd.read_csv('test_2.csv')  \n",
        "df"
      ]
    },
    {
      "cell_type": "code",
      "execution_count": 11,
      "id": "2ff243a0",
      "metadata": {
        "id": "2ff243a0",
        "outputId": "76077d9c-c5cf-4dfe-d640-0996569f3a51",
        "colab": {
          "base_uri": "https://localhost:8080/"
        }
      },
      "outputs": [
        {
          "output_type": "execute_result",
          "data": {
            "text/plain": [
              "array([[ 6,  7,  8,  9, 10, 11],\n",
              "       [12, 13, 14, 15, 16, 17],\n",
              "       [18, 19, 20, 21, 22, 23],\n",
              "       [24, 25, 26, 27, 28, 29]])"
            ]
          },
          "metadata": {},
          "execution_count": 11
        }
      ],
      "source": [
        "# 어레이로 변환하기\n",
        "df.values"
      ]
    },
    {
      "cell_type": "markdown",
      "id": "997ff8ee",
      "metadata": {
        "id": "997ff8ee"
      },
      "source": [
        "### read_csv 옵션\n",
        "\n",
        "- nrows=1000         # 상위 1000줄만 읽기\n",
        "- skiprows = 3       # 처음 3행 건너뛰기\n",
        "- skipfooter = 1000 # 맨 뒤의 1000행은 읽지 않기\n",
        "- usecols= (0,2,4)  # 해당 컬럼만 읽기"
      ]
    },
    {
      "cell_type": "code",
      "execution_count": 12,
      "id": "b631959e",
      "metadata": {
        "id": "b631959e",
        "outputId": "afb786db-a3ca-46e1-88f7-6a4690eeb9fd",
        "colab": {
          "base_uri": "https://localhost:8080/",
          "height": 143
        }
      },
      "outputs": [
        {
          "output_type": "execute_result",
          "data": {
            "text/plain": [
              "    0   1   2   3   4   5\n",
              "0   0   1   2   3   4   5\n",
              "1   6   7   8   9  10  11\n",
              "2  12  13  14  15  16  17"
            ],
            "text/html": [
              "\n",
              "  <div id=\"df-a3cd1408-f5c9-47ce-b9ea-2bb33404c202\">\n",
              "    <div class=\"colab-df-container\">\n",
              "      <div>\n",
              "<style scoped>\n",
              "    .dataframe tbody tr th:only-of-type {\n",
              "        vertical-align: middle;\n",
              "    }\n",
              "\n",
              "    .dataframe tbody tr th {\n",
              "        vertical-align: top;\n",
              "    }\n",
              "\n",
              "    .dataframe thead th {\n",
              "        text-align: right;\n",
              "    }\n",
              "</style>\n",
              "<table border=\"1\" class=\"dataframe\">\n",
              "  <thead>\n",
              "    <tr style=\"text-align: right;\">\n",
              "      <th></th>\n",
              "      <th>0</th>\n",
              "      <th>1</th>\n",
              "      <th>2</th>\n",
              "      <th>3</th>\n",
              "      <th>4</th>\n",
              "      <th>5</th>\n",
              "    </tr>\n",
              "  </thead>\n",
              "  <tbody>\n",
              "    <tr>\n",
              "      <th>0</th>\n",
              "      <td>0</td>\n",
              "      <td>1</td>\n",
              "      <td>2</td>\n",
              "      <td>3</td>\n",
              "      <td>4</td>\n",
              "      <td>5</td>\n",
              "    </tr>\n",
              "    <tr>\n",
              "      <th>1</th>\n",
              "      <td>6</td>\n",
              "      <td>7</td>\n",
              "      <td>8</td>\n",
              "      <td>9</td>\n",
              "      <td>10</td>\n",
              "      <td>11</td>\n",
              "    </tr>\n",
              "    <tr>\n",
              "      <th>2</th>\n",
              "      <td>12</td>\n",
              "      <td>13</td>\n",
              "      <td>14</td>\n",
              "      <td>15</td>\n",
              "      <td>16</td>\n",
              "      <td>17</td>\n",
              "    </tr>\n",
              "  </tbody>\n",
              "</table>\n",
              "</div>\n",
              "      <button class=\"colab-df-convert\" onclick=\"convertToInteractive('df-a3cd1408-f5c9-47ce-b9ea-2bb33404c202')\"\n",
              "              title=\"Convert this dataframe to an interactive table.\"\n",
              "              style=\"display:none;\">\n",
              "        \n",
              "  <svg xmlns=\"http://www.w3.org/2000/svg\" height=\"24px\"viewBox=\"0 0 24 24\"\n",
              "       width=\"24px\">\n",
              "    <path d=\"M0 0h24v24H0V0z\" fill=\"none\"/>\n",
              "    <path d=\"M18.56 5.44l.94 2.06.94-2.06 2.06-.94-2.06-.94-.94-2.06-.94 2.06-2.06.94zm-11 1L8.5 8.5l.94-2.06 2.06-.94-2.06-.94L8.5 2.5l-.94 2.06-2.06.94zm10 10l.94 2.06.94-2.06 2.06-.94-2.06-.94-.94-2.06-.94 2.06-2.06.94z\"/><path d=\"M17.41 7.96l-1.37-1.37c-.4-.4-.92-.59-1.43-.59-.52 0-1.04.2-1.43.59L10.3 9.45l-7.72 7.72c-.78.78-.78 2.05 0 2.83L4 21.41c.39.39.9.59 1.41.59.51 0 1.02-.2 1.41-.59l7.78-7.78 2.81-2.81c.8-.78.8-2.07 0-2.86zM5.41 20L4 18.59l7.72-7.72 1.47 1.35L5.41 20z\"/>\n",
              "  </svg>\n",
              "      </button>\n",
              "      \n",
              "  <style>\n",
              "    .colab-df-container {\n",
              "      display:flex;\n",
              "      flex-wrap:wrap;\n",
              "      gap: 12px;\n",
              "    }\n",
              "\n",
              "    .colab-df-convert {\n",
              "      background-color: #E8F0FE;\n",
              "      border: none;\n",
              "      border-radius: 50%;\n",
              "      cursor: pointer;\n",
              "      display: none;\n",
              "      fill: #1967D2;\n",
              "      height: 32px;\n",
              "      padding: 0 0 0 0;\n",
              "      width: 32px;\n",
              "    }\n",
              "\n",
              "    .colab-df-convert:hover {\n",
              "      background-color: #E2EBFA;\n",
              "      box-shadow: 0px 1px 2px rgba(60, 64, 67, 0.3), 0px 1px 3px 1px rgba(60, 64, 67, 0.15);\n",
              "      fill: #174EA6;\n",
              "    }\n",
              "\n",
              "    [theme=dark] .colab-df-convert {\n",
              "      background-color: #3B4455;\n",
              "      fill: #D2E3FC;\n",
              "    }\n",
              "\n",
              "    [theme=dark] .colab-df-convert:hover {\n",
              "      background-color: #434B5C;\n",
              "      box-shadow: 0px 1px 3px 1px rgba(0, 0, 0, 0.15);\n",
              "      filter: drop-shadow(0px 1px 2px rgba(0, 0, 0, 0.3));\n",
              "      fill: #FFFFFF;\n",
              "    }\n",
              "  </style>\n",
              "\n",
              "      <script>\n",
              "        const buttonEl =\n",
              "          document.querySelector('#df-a3cd1408-f5c9-47ce-b9ea-2bb33404c202 button.colab-df-convert');\n",
              "        buttonEl.style.display =\n",
              "          google.colab.kernel.accessAllowed ? 'block' : 'none';\n",
              "\n",
              "        async function convertToInteractive(key) {\n",
              "          const element = document.querySelector('#df-a3cd1408-f5c9-47ce-b9ea-2bb33404c202');\n",
              "          const dataTable =\n",
              "            await google.colab.kernel.invokeFunction('convertToInteractive',\n",
              "                                                     [key], {});\n",
              "          if (!dataTable) return;\n",
              "\n",
              "          const docLinkHtml = 'Like what you see? Visit the ' +\n",
              "            '<a target=\"_blank\" href=https://colab.research.google.com/notebooks/data_table.ipynb>data table notebook</a>'\n",
              "            + ' to learn more about interactive tables.';\n",
              "          element.innerHTML = '';\n",
              "          dataTable['output_type'] = 'display_data';\n",
              "          await google.colab.output.renderOutput(dataTable, element);\n",
              "          const docLink = document.createElement('div');\n",
              "          docLink.innerHTML = docLinkHtml;\n",
              "          element.appendChild(docLink);\n",
              "        }\n",
              "      </script>\n",
              "    </div>\n",
              "  </div>\n",
              "  "
            ]
          },
          "metadata": {},
          "execution_count": 12
        }
      ],
      "source": [
        "# 일부 행만 읽기 nrows 사용 (3줄 읽기)\n",
        "\n",
        "df2 = pd.read_csv('test_2.csv', nrows=3, header=None)\n",
        "df2"
      ]
    },
    {
      "cell_type": "code",
      "execution_count": 13,
      "id": "0eee13b3",
      "metadata": {
        "id": "0eee13b3",
        "outputId": "f4920b7c-b89c-4e84-e137-1ac15482081d",
        "colab": {
          "base_uri": "https://localhost:8080/",
          "height": 112
        }
      },
      "outputs": [
        {
          "output_type": "execute_result",
          "data": {
            "text/plain": [
              "    0   1   2   3   4   5\n",
              "0  18  19  20  21  22  23\n",
              "1  24  25  26  27  28  29"
            ],
            "text/html": [
              "\n",
              "  <div id=\"df-76ab931f-7659-428a-9894-3a2d2842b211\">\n",
              "    <div class=\"colab-df-container\">\n",
              "      <div>\n",
              "<style scoped>\n",
              "    .dataframe tbody tr th:only-of-type {\n",
              "        vertical-align: middle;\n",
              "    }\n",
              "\n",
              "    .dataframe tbody tr th {\n",
              "        vertical-align: top;\n",
              "    }\n",
              "\n",
              "    .dataframe thead th {\n",
              "        text-align: right;\n",
              "    }\n",
              "</style>\n",
              "<table border=\"1\" class=\"dataframe\">\n",
              "  <thead>\n",
              "    <tr style=\"text-align: right;\">\n",
              "      <th></th>\n",
              "      <th>0</th>\n",
              "      <th>1</th>\n",
              "      <th>2</th>\n",
              "      <th>3</th>\n",
              "      <th>4</th>\n",
              "      <th>5</th>\n",
              "    </tr>\n",
              "  </thead>\n",
              "  <tbody>\n",
              "    <tr>\n",
              "      <th>0</th>\n",
              "      <td>18</td>\n",
              "      <td>19</td>\n",
              "      <td>20</td>\n",
              "      <td>21</td>\n",
              "      <td>22</td>\n",
              "      <td>23</td>\n",
              "    </tr>\n",
              "    <tr>\n",
              "      <th>1</th>\n",
              "      <td>24</td>\n",
              "      <td>25</td>\n",
              "      <td>26</td>\n",
              "      <td>27</td>\n",
              "      <td>28</td>\n",
              "      <td>29</td>\n",
              "    </tr>\n",
              "  </tbody>\n",
              "</table>\n",
              "</div>\n",
              "      <button class=\"colab-df-convert\" onclick=\"convertToInteractive('df-76ab931f-7659-428a-9894-3a2d2842b211')\"\n",
              "              title=\"Convert this dataframe to an interactive table.\"\n",
              "              style=\"display:none;\">\n",
              "        \n",
              "  <svg xmlns=\"http://www.w3.org/2000/svg\" height=\"24px\"viewBox=\"0 0 24 24\"\n",
              "       width=\"24px\">\n",
              "    <path d=\"M0 0h24v24H0V0z\" fill=\"none\"/>\n",
              "    <path d=\"M18.56 5.44l.94 2.06.94-2.06 2.06-.94-2.06-.94-.94-2.06-.94 2.06-2.06.94zm-11 1L8.5 8.5l.94-2.06 2.06-.94-2.06-.94L8.5 2.5l-.94 2.06-2.06.94zm10 10l.94 2.06.94-2.06 2.06-.94-2.06-.94-.94-2.06-.94 2.06-2.06.94z\"/><path d=\"M17.41 7.96l-1.37-1.37c-.4-.4-.92-.59-1.43-.59-.52 0-1.04.2-1.43.59L10.3 9.45l-7.72 7.72c-.78.78-.78 2.05 0 2.83L4 21.41c.39.39.9.59 1.41.59.51 0 1.02-.2 1.41-.59l7.78-7.78 2.81-2.81c.8-.78.8-2.07 0-2.86zM5.41 20L4 18.59l7.72-7.72 1.47 1.35L5.41 20z\"/>\n",
              "  </svg>\n",
              "      </button>\n",
              "      \n",
              "  <style>\n",
              "    .colab-df-container {\n",
              "      display:flex;\n",
              "      flex-wrap:wrap;\n",
              "      gap: 12px;\n",
              "    }\n",
              "\n",
              "    .colab-df-convert {\n",
              "      background-color: #E8F0FE;\n",
              "      border: none;\n",
              "      border-radius: 50%;\n",
              "      cursor: pointer;\n",
              "      display: none;\n",
              "      fill: #1967D2;\n",
              "      height: 32px;\n",
              "      padding: 0 0 0 0;\n",
              "      width: 32px;\n",
              "    }\n",
              "\n",
              "    .colab-df-convert:hover {\n",
              "      background-color: #E2EBFA;\n",
              "      box-shadow: 0px 1px 2px rgba(60, 64, 67, 0.3), 0px 1px 3px 1px rgba(60, 64, 67, 0.15);\n",
              "      fill: #174EA6;\n",
              "    }\n",
              "\n",
              "    [theme=dark] .colab-df-convert {\n",
              "      background-color: #3B4455;\n",
              "      fill: #D2E3FC;\n",
              "    }\n",
              "\n",
              "    [theme=dark] .colab-df-convert:hover {\n",
              "      background-color: #434B5C;\n",
              "      box-shadow: 0px 1px 3px 1px rgba(0, 0, 0, 0.15);\n",
              "      filter: drop-shadow(0px 1px 2px rgba(0, 0, 0, 0.3));\n",
              "      fill: #FFFFFF;\n",
              "    }\n",
              "  </style>\n",
              "\n",
              "      <script>\n",
              "        const buttonEl =\n",
              "          document.querySelector('#df-76ab931f-7659-428a-9894-3a2d2842b211 button.colab-df-convert');\n",
              "        buttonEl.style.display =\n",
              "          google.colab.kernel.accessAllowed ? 'block' : 'none';\n",
              "\n",
              "        async function convertToInteractive(key) {\n",
              "          const element = document.querySelector('#df-76ab931f-7659-428a-9894-3a2d2842b211');\n",
              "          const dataTable =\n",
              "            await google.colab.kernel.invokeFunction('convertToInteractive',\n",
              "                                                     [key], {});\n",
              "          if (!dataTable) return;\n",
              "\n",
              "          const docLinkHtml = 'Like what you see? Visit the ' +\n",
              "            '<a target=\"_blank\" href=https://colab.research.google.com/notebooks/data_table.ipynb>data table notebook</a>'\n",
              "            + ' to learn more about interactive tables.';\n",
              "          element.innerHTML = '';\n",
              "          dataTable['output_type'] = 'display_data';\n",
              "          await google.colab.output.renderOutput(dataTable, element);\n",
              "          const docLink = document.createElement('div');\n",
              "          docLink.innerHTML = docLinkHtml;\n",
              "          element.appendChild(docLink);\n",
              "        }\n",
              "      </script>\n",
              "    </div>\n",
              "  </div>\n",
              "  "
            ]
          },
          "metadata": {},
          "execution_count": 13
        }
      ],
      "source": [
        "df2 = pd.read_csv('test_2.csv', skiprows=3, header=None)\n",
        "df2"
      ]
    },
    {
      "cell_type": "markdown",
      "id": "2876daa7",
      "metadata": {
        "id": "2876daa7"
      },
      "source": [
        "### 액셀 한글 인코딩\n",
        "- 문자의 인코딩은 기본적으로 utf-8 을 사용한다\n",
        "- 그러나 한글의 경우 다른 인코딩으로 저장되는 경우가 있다\n",
        " - MS 액셀에서 csv로 저장할 때 한글이 cpc949로 인코딩된다. 이때는 아래 옵션이 필요하다\n",
        " - encoding = 'cpc949'\n",
        " - encoding = 'euc-kr'을 선택해야 하는 경우도 있다"
      ]
    },
    {
      "cell_type": "markdown",
      "id": "c83b64f1",
      "metadata": {
        "id": "c83b64f1"
      },
      "source": [
        "## zip 파일 \n",
        "### zip 파일 만들기\n",
        "- output.csv 을 output.zip로 압축하는 경우"
      ]
    },
    {
      "cell_type": "code",
      "execution_count": 14,
      "id": "e5e1bb94",
      "metadata": {
        "id": "e5e1bb94",
        "outputId": "189e55f4-841c-4c27-a7de-5a5649c06c3e",
        "colab": {
          "base_uri": "https://localhost:8080/"
        }
      },
      "outputs": [
        {
          "output_type": "stream",
          "name": "stdout",
          "text": [
            "0,1,2,3,4,5\n",
            "6,7,8,9,10,11\n",
            "12,13,14,15,16,17\n",
            "18,19,20,21,22,23\n",
            "24,25,26,27,28,29\n"
          ]
        }
      ],
      "source": [
        "!cat test_2.csv"
      ]
    },
    {
      "cell_type": "code",
      "execution_count": 15,
      "id": "8be295cc",
      "metadata": {
        "id": "8be295cc",
        "outputId": "39cec8fe-d8f9-4a68-a390-c0f63fa7f12b",
        "colab": {
          "base_uri": "https://localhost:8080/"
        }
      },
      "outputs": [
        {
          "output_type": "stream",
          "name": "stdout",
          "text": [
            "0.903\n",
            "0.216\n",
            "0.501\n",
            "0.355\n",
            "0.402\n",
            "0.074\n",
            "0.197\n",
            "0.744\n",
            "0.648\n",
            "0.805\n"
          ]
        }
      ],
      "source": [
        "!cat test_1.csv"
      ]
    },
    {
      "cell_type": "code",
      "execution_count": 16,
      "id": "2417f76f",
      "metadata": {
        "id": "2417f76f",
        "outputId": "49211e0b-4bcb-4652-deb9-1edf9099bc69",
        "colab": {
          "base_uri": "https://localhost:8080/"
        }
      },
      "outputs": [
        {
          "output_type": "stream",
          "name": "stdout",
          "text": [
            "['test_1.csv', 'test_2.csv']\n"
          ]
        }
      ],
      "source": [
        "## zip 파일로 압축하기\n",
        "\n",
        "import zipfile\n",
        "with zipfile.ZipFile('output.zip', 'w') as z:\n",
        "    z.write('test_1.csv')\n",
        "    z.write('test_2.csv')\n",
        "\n",
        "# zip에 포함된 파일명 보기와 압출 풀기\n",
        "\n",
        "with zipfile.ZipFile(\"output.zip\", 'r') as z: \n",
        "    print(z.namelist()) \n",
        "    z.extractall() "
      ]
    },
    {
      "cell_type": "markdown",
      "id": "eefb97fe",
      "metadata": {
        "id": "eefb97fe"
      },
      "source": [
        "- (참고) read_csv에서 zip 파일을 바로 읽을 수 있다 (압축을 풀 필요 없다)"
      ]
    },
    {
      "cell_type": "code",
      "execution_count": 17,
      "id": "505c0b01",
      "metadata": {
        "id": "505c0b01"
      },
      "outputs": [],
      "source": [
        "# pd.read_csv('output.zip', header=None)  "
      ]
    },
    {
      "cell_type": "markdown",
      "id": "68034c94",
      "metadata": {
        "id": "68034c94"
      },
      "source": [
        "# 폴더 작업"
      ]
    },
    {
      "cell_type": "markdown",
      "id": "b00287b6",
      "metadata": {
        "id": "b00287b6"
      },
      "source": [
        "## 현재 폴더 위치 보기\n",
        "- cwd (current working directory)"
      ]
    },
    {
      "cell_type": "code",
      "execution_count": 18,
      "id": "46cecf30",
      "metadata": {
        "colab": {
          "base_uri": "https://localhost:8080/"
        },
        "id": "46cecf30",
        "outputId": "f46ab1b1-eae5-41d0-a6e9-0ba5788a62e9"
      },
      "outputs": [
        {
          "output_type": "stream",
          "name": "stdout",
          "text": [
            "/content\n"
          ]
        }
      ],
      "source": [
        "## 현재 작업중인 폴더 경로 보기\n",
        "\n",
        "import os\n",
        "cwd = os.getcwd()\n",
        "print(cwd)"
      ]
    },
    {
      "cell_type": "code",
      "execution_count": 19,
      "id": "327f211f",
      "metadata": {
        "id": "327f211f"
      },
      "outputs": [],
      "source": [
        "## 특정 폴더가 없으면 새로 만들기\n",
        "\n",
        "if not os.path.exists(\"./data_tmp\"):\n",
        "    os.mkdir(\"./data_tmp\")"
      ]
    },
    {
      "cell_type": "markdown",
      "id": "a8535d48",
      "metadata": {
        "id": "a8535d48"
      },
      "source": [
        "## 폴더의 파일 목록 얻기\n",
        "- glob() 사용: 파일 타입을 지정할 수 있다\n",
        "- listdir() 사용: 경로를 줄 수 있다"
      ]
    },
    {
      "cell_type": "markdown",
      "id": "d469c296",
      "metadata": {
        "id": "d469c296"
      },
      "source": [
        "### glob()를 사용"
      ]
    },
    {
      "cell_type": "code",
      "execution_count": 21,
      "id": "455c954d",
      "metadata": {
        "id": "455c954d",
        "outputId": "e800723d-b17e-4410-a65a-d4b9fd7dc990",
        "colab": {
          "base_uri": "https://localhost:8080/"
        }
      },
      "outputs": [
        {
          "output_type": "execute_result",
          "data": {
            "text/plain": [
              "['data_tmp', 'output.zip', 'sample_data', 'test_1.csv', 'test_2.csv']"
            ]
          },
          "metadata": {},
          "execution_count": 21
        }
      ],
      "source": [
        "## 현재 폴더의 파일 목록 얻기\n",
        "\n",
        "from glob import glob\n",
        "f_list = glob('*')\n",
        "sorted(f_list)"
      ]
    },
    {
      "cell_type": "code",
      "execution_count": 22,
      "id": "3bd46c00",
      "metadata": {
        "id": "3bd46c00",
        "outputId": "af4ffb65-6f58-4a87-f384-9142aebf1c7e",
        "colab": {
          "base_uri": "https://localhost:8080/",
          "height": 400
        }
      },
      "outputs": [
        {
          "output_type": "error",
          "ename": "IsADirectoryError",
          "evalue": "ignored",
          "traceback": [
            "\u001b[0;31m---------------------------------------------------------------------------\u001b[0m",
            "\u001b[0;31mIsADirectoryError\u001b[0m                         Traceback (most recent call last)",
            "\u001b[0;32m<ipython-input-22-6ff0d2173893>\u001b[0m in \u001b[0;36m<cell line: 4>\u001b[0;34m()\u001b[0m\n\u001b[1;32m      3\u001b[0m \u001b[0;32mimport\u001b[0m \u001b[0mshutil\u001b[0m\u001b[0;34m\u001b[0m\u001b[0;34m\u001b[0m\u001b[0m\n\u001b[1;32m      4\u001b[0m \u001b[0;32mfor\u001b[0m \u001b[0mfile\u001b[0m \u001b[0;32min\u001b[0m \u001b[0mf_list\u001b[0m\u001b[0;34m:\u001b[0m\u001b[0;34m\u001b[0m\u001b[0;34m\u001b[0m\u001b[0m\n\u001b[0;32m----> 5\u001b[0;31m     \u001b[0mshutil\u001b[0m\u001b[0;34m.\u001b[0m\u001b[0mcopy2\u001b[0m\u001b[0;34m(\u001b[0m\u001b[0mfile\u001b[0m\u001b[0;34m,\u001b[0m \u001b[0;34m'./data_tmp'\u001b[0m\u001b[0;34m)\u001b[0m\u001b[0;34m\u001b[0m\u001b[0;34m\u001b[0m\u001b[0m\n\u001b[0m\u001b[1;32m      6\u001b[0m \u001b[0;34m\u001b[0m\u001b[0m\n\u001b[1;32m      7\u001b[0m \u001b[0mos\u001b[0m\u001b[0;34m.\u001b[0m\u001b[0mchdir\u001b[0m\u001b[0;34m(\u001b[0m\u001b[0;34m'./data_tmp'\u001b[0m\u001b[0;34m)\u001b[0m\u001b[0;34m\u001b[0m\u001b[0;34m\u001b[0m\u001b[0m\n",
            "\u001b[0;32m/usr/lib/python3.10/shutil.py\u001b[0m in \u001b[0;36mcopy2\u001b[0;34m(src, dst, follow_symlinks)\u001b[0m\n\u001b[1;32m    432\u001b[0m     \u001b[0;32mif\u001b[0m \u001b[0mos\u001b[0m\u001b[0;34m.\u001b[0m\u001b[0mpath\u001b[0m\u001b[0;34m.\u001b[0m\u001b[0misdir\u001b[0m\u001b[0;34m(\u001b[0m\u001b[0mdst\u001b[0m\u001b[0;34m)\u001b[0m\u001b[0;34m:\u001b[0m\u001b[0;34m\u001b[0m\u001b[0;34m\u001b[0m\u001b[0m\n\u001b[1;32m    433\u001b[0m         \u001b[0mdst\u001b[0m \u001b[0;34m=\u001b[0m \u001b[0mos\u001b[0m\u001b[0;34m.\u001b[0m\u001b[0mpath\u001b[0m\u001b[0;34m.\u001b[0m\u001b[0mjoin\u001b[0m\u001b[0;34m(\u001b[0m\u001b[0mdst\u001b[0m\u001b[0;34m,\u001b[0m \u001b[0mos\u001b[0m\u001b[0;34m.\u001b[0m\u001b[0mpath\u001b[0m\u001b[0;34m.\u001b[0m\u001b[0mbasename\u001b[0m\u001b[0;34m(\u001b[0m\u001b[0msrc\u001b[0m\u001b[0;34m)\u001b[0m\u001b[0;34m)\u001b[0m\u001b[0;34m\u001b[0m\u001b[0;34m\u001b[0m\u001b[0m\n\u001b[0;32m--> 434\u001b[0;31m     \u001b[0mcopyfile\u001b[0m\u001b[0;34m(\u001b[0m\u001b[0msrc\u001b[0m\u001b[0;34m,\u001b[0m \u001b[0mdst\u001b[0m\u001b[0;34m,\u001b[0m \u001b[0mfollow_symlinks\u001b[0m\u001b[0;34m=\u001b[0m\u001b[0mfollow_symlinks\u001b[0m\u001b[0;34m)\u001b[0m\u001b[0;34m\u001b[0m\u001b[0;34m\u001b[0m\u001b[0m\n\u001b[0m\u001b[1;32m    435\u001b[0m     \u001b[0mcopystat\u001b[0m\u001b[0;34m(\u001b[0m\u001b[0msrc\u001b[0m\u001b[0;34m,\u001b[0m \u001b[0mdst\u001b[0m\u001b[0;34m,\u001b[0m \u001b[0mfollow_symlinks\u001b[0m\u001b[0;34m=\u001b[0m\u001b[0mfollow_symlinks\u001b[0m\u001b[0;34m)\u001b[0m\u001b[0;34m\u001b[0m\u001b[0;34m\u001b[0m\u001b[0m\n\u001b[1;32m    436\u001b[0m     \u001b[0;32mreturn\u001b[0m \u001b[0mdst\u001b[0m\u001b[0;34m\u001b[0m\u001b[0;34m\u001b[0m\u001b[0m\n",
            "\u001b[0;32m/usr/lib/python3.10/shutil.py\u001b[0m in \u001b[0;36mcopyfile\u001b[0;34m(src, dst, follow_symlinks)\u001b[0m\n\u001b[1;32m    252\u001b[0m         \u001b[0mos\u001b[0m\u001b[0;34m.\u001b[0m\u001b[0msymlink\u001b[0m\u001b[0;34m(\u001b[0m\u001b[0mos\u001b[0m\u001b[0;34m.\u001b[0m\u001b[0mreadlink\u001b[0m\u001b[0;34m(\u001b[0m\u001b[0msrc\u001b[0m\u001b[0;34m)\u001b[0m\u001b[0;34m,\u001b[0m \u001b[0mdst\u001b[0m\u001b[0;34m)\u001b[0m\u001b[0;34m\u001b[0m\u001b[0;34m\u001b[0m\u001b[0m\n\u001b[1;32m    253\u001b[0m     \u001b[0;32melse\u001b[0m\u001b[0;34m:\u001b[0m\u001b[0;34m\u001b[0m\u001b[0;34m\u001b[0m\u001b[0m\n\u001b[0;32m--> 254\u001b[0;31m         \u001b[0;32mwith\u001b[0m \u001b[0mopen\u001b[0m\u001b[0;34m(\u001b[0m\u001b[0msrc\u001b[0m\u001b[0;34m,\u001b[0m \u001b[0;34m'rb'\u001b[0m\u001b[0;34m)\u001b[0m \u001b[0;32mas\u001b[0m \u001b[0mfsrc\u001b[0m\u001b[0;34m:\u001b[0m\u001b[0;34m\u001b[0m\u001b[0;34m\u001b[0m\u001b[0m\n\u001b[0m\u001b[1;32m    255\u001b[0m             \u001b[0;32mtry\u001b[0m\u001b[0;34m:\u001b[0m\u001b[0;34m\u001b[0m\u001b[0;34m\u001b[0m\u001b[0m\n\u001b[1;32m    256\u001b[0m                 \u001b[0;32mwith\u001b[0m \u001b[0mopen\u001b[0m\u001b[0;34m(\u001b[0m\u001b[0mdst\u001b[0m\u001b[0;34m,\u001b[0m \u001b[0;34m'wb'\u001b[0m\u001b[0;34m)\u001b[0m \u001b[0;32mas\u001b[0m \u001b[0mfdst\u001b[0m\u001b[0;34m:\u001b[0m\u001b[0;34m\u001b[0m\u001b[0;34m\u001b[0m\u001b[0m\n",
            "\u001b[0;31mIsADirectoryError\u001b[0m: [Errno 21] Is a directory: 'data_tmp'"
          ]
        }
      ],
      "source": [
        "## f_list의 파일 복사후 작업 폴더를 이동하여 복사 확인하기\n",
        "\n",
        "import shutil\n",
        "for file in f_list:\n",
        "    shutil.copy2(file, './data_tmp')\n",
        "\n",
        "os.chdir('./data_tmp')\n",
        "print(os.getcwd())\n",
        "glob('*')"
      ]
    },
    {
      "cell_type": "code",
      "execution_count": 23,
      "id": "8dc8e743",
      "metadata": {
        "id": "8dc8e743",
        "outputId": "b29c1b0c-acab-43f7-b25f-7698d8a9b786",
        "colab": {
          "base_uri": "https://localhost:8080/"
        }
      },
      "outputs": [
        {
          "output_type": "stream",
          "name": "stdout",
          "text": [
            "/\n"
          ]
        }
      ],
      "source": [
        "%cd .."
      ]
    },
    {
      "cell_type": "code",
      "execution_count": 24,
      "id": "90c81f66",
      "metadata": {
        "id": "90c81f66"
      },
      "outputs": [],
      "source": [
        "os.chdir('..')"
      ]
    },
    {
      "cell_type": "code",
      "execution_count": 25,
      "id": "e2c7ce13",
      "metadata": {
        "id": "e2c7ce13",
        "outputId": "f8b58646-6fa5-4717-a141-18d938e7eb12",
        "colab": {
          "base_uri": "https://localhost:8080/",
          "height": 35
        }
      },
      "outputs": [
        {
          "output_type": "execute_result",
          "data": {
            "text/plain": [
              "'/'"
            ],
            "application/vnd.google.colaboratory.intrinsic+json": {
              "type": "string"
            }
          },
          "metadata": {},
          "execution_count": 25
        }
      ],
      "source": [
        "os.getcwd()"
      ]
    },
    {
      "cell_type": "code",
      "execution_count": 26,
      "id": "78be9e64",
      "metadata": {
        "id": "78be9e64",
        "outputId": "b75bcccd-ac17-42f7-c66d-fb711d536b6f",
        "colab": {
          "base_uri": "https://localhost:8080/"
        }
      },
      "outputs": [
        {
          "output_type": "stream",
          "name": "stdout",
          "text": [
            "/content\n"
          ]
        }
      ],
      "source": [
        "## 처음의 폴더로 이동하고 확인하기\n",
        "\n",
        "os.chdir(cwd)\n",
        "print(os.getcwd())"
      ]
    },
    {
      "cell_type": "code",
      "execution_count": 27,
      "id": "33413f58",
      "metadata": {
        "id": "33413f58",
        "outputId": "12d5698d-0a7b-4227-9e20-3a568420c6a0",
        "colab": {
          "base_uri": "https://localhost:8080/"
        }
      },
      "outputs": [
        {
          "output_type": "stream",
          "name": "stdout",
          "text": [
            "/content\n"
          ]
        }
      ],
      "source": [
        "!pwd"
      ]
    },
    {
      "cell_type": "code",
      "execution_count": 28,
      "id": "3b5d0741",
      "metadata": {
        "id": "3b5d0741",
        "outputId": "c5a95c93-6c8e-4d97-8703-c8905512328d",
        "colab": {
          "base_uri": "https://localhost:8080/"
        }
      },
      "outputs": [
        {
          "output_type": "stream",
          "name": "stdout",
          "text": [
            "/\n"
          ]
        }
      ],
      "source": [
        "os.chdir('..')\n",
        "print(os.getcwd())"
      ]
    },
    {
      "cell_type": "code",
      "id": "85844c89",
      "metadata": {
        "colab": {
          "base_uri": "https://localhost:8080/",
          "height": 137
        },
        "id": "85844c89",
        "outputId": "40d4f654-32a2-4f8c-ea69-4ba21ba297d5"
      },
      "source": [
        "## 기타 폴더 및 파일 관리 함수\n",
        "- os 패키지에서 제공하는 함수\n",
        " - 폴더 생성 mkdir()\n",
        " - 폴더 위치 이동 chdir()\n",
        " - 파일 이름 변경 rename()\n",
        " - 파일 삭제 remove()\n",
        " - 폴더 삭제 rmdir()"
      ],
      "execution_count": 29,
      "outputs": [
        {
          "output_type": "error",
          "ename": "SyntaxError",
          "evalue": "ignored",
          "traceback": [
            "\u001b[0;36m  File \u001b[0;32m\"<ipython-input-29-4763cd8a5d62>\"\u001b[0;36m, line \u001b[0;32m2\u001b[0m\n\u001b[0;31m    - os 패키지에서 제공하는 함수\u001b[0m\n\u001b[0m         ^\u001b[0m\n\u001b[0;31mSyntaxError\u001b[0m\u001b[0;31m:\u001b[0m invalid syntax\n"
          ]
        }
      ]
    },
    {
      "cell_type": "code",
      "execution_count": null,
      "id": "10f8fec1",
      "metadata": {
        "id": "10f8fec1"
      },
      "outputs": [],
      "source": []
    }
  ],
  "metadata": {
    "kernelspec": {
      "display_name": "Python 3",
      "language": "python",
      "name": "python3"
    },
    "language_info": {
      "codemirror_mode": {
        "name": "ipython",
        "version": 3
      },
      "file_extension": ".py",
      "mimetype": "text/x-python",
      "name": "python",
      "nbconvert_exporter": "python",
      "pygments_lexer": "ipython3",
      "version": "3.8.8"
    },
    "toc": {
      "base_numbering": 1,
      "nav_menu": {},
      "number_sections": false,
      "sideBar": true,
      "skip_h1_title": false,
      "title_cell": "Table of Contents",
      "title_sidebar": "Contents",
      "toc_cell": false,
      "toc_position": {
        "height": "calc(100% - 180px)",
        "left": "10px",
        "top": "150px",
        "width": "165px"
      },
      "toc_section_display": true,
      "toc_window_display": false
    },
    "colab": {
      "provenance": []
    }
  },
  "nbformat": 4,
  "nbformat_minor": 5
}